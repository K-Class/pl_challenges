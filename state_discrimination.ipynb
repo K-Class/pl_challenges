{
 "cells": [
  {
   "cell_type": "code",
   "execution_count": 1,
   "metadata": {},
   "outputs": [],
   "source": [
    "import numpy as np\n",
    "import math\n"
   ]
  },
  {
   "cell_type": "code",
   "execution_count": 31,
   "metadata": {},
   "outputs": [],
   "source": [
    "def maximal_probability(theta_1, theta_2, p_1, p_2):\n",
    "    # rot_angle = -theta_1 if p_1 >= p_2 else -theta_2\n",
    "    max_p = 0\n",
    "    max_rot = 0\n",
    "    for rot_angle in np.arange(0, np.pi, np.pi / 100000):\n",
    "        phi_1_amplitudes = (\n",
    "            (np.cos(theta_1) * np.cos(rot_angle)) - (np.sin(theta_1) * np.sin(rot_angle)),\n",
    "            (np.cos(theta_1) * np.sin(rot_angle)) + (np.sin(theta_1) * np.cos(rot_angle)),\n",
    "        )\n",
    "        phi_2_amplitudes = (\n",
    "            (np.cos(theta_2) * np.cos(rot_angle)) - (np.sin(theta_2) * np.sin(rot_angle)),\n",
    "            (np.cos(theta_2) * np.sin(rot_angle)) + (np.sin(theta_2) * np.cos(rot_angle)),\n",
    "        )\n",
    "        p = (p_1 * (phi_1_amplitudes[0] ** 2)) + (p_2 * (phi_2_amplitudes[1] ** 2))\n",
    "        if p > max_p:\n",
    "            max_p = p\n",
    "            max_rot = rot_angle\n",
    "    print(f\"Best angle: {max_rot}\")\n",
    "    return max_p\n"
   ]
  },
  {
   "cell_type": "code",
   "execution_count": 32,
   "metadata": {},
   "outputs": [
    {
     "name": "stdout",
     "output_type": "stream",
     "text": [
      "Best angle: 0.1608809597903333\n"
     ]
    },
    {
     "data": {
      "text/plain": [
       "0.8952847074955185"
      ]
     },
     "execution_count": 32,
     "metadata": {},
     "output_type": "execute_result"
    }
   ],
   "source": [
    "maximal_probability(0, 0.7853981633974483, 0.75, 0.25)"
   ]
  },
  {
   "cell_type": "code",
   "execution_count": 22,
   "metadata": {},
   "outputs": [
    {
     "data": {
      "text/plain": [
       "array([0.        , 0.03141593, 0.06283185, 0.09424778, 0.12566371,\n",
       "       0.15707963, 0.18849556, 0.21991149, 0.25132741, 0.28274334,\n",
       "       0.31415927, 0.34557519, 0.37699112, 0.40840704, 0.43982297,\n",
       "       0.4712389 , 0.50265482, 0.53407075, 0.56548668, 0.5969026 ,\n",
       "       0.62831853, 0.65973446, 0.69115038, 0.72256631, 0.75398224,\n",
       "       0.78539816, 0.81681409, 0.84823002, 0.87964594, 0.91106187,\n",
       "       0.9424778 , 0.97389372, 1.00530965, 1.03672558, 1.0681415 ,\n",
       "       1.09955743, 1.13097336, 1.16238928, 1.19380521, 1.22522113,\n",
       "       1.25663706, 1.28805299, 1.31946891, 1.35088484, 1.38230077,\n",
       "       1.41371669, 1.44513262, 1.47654855, 1.50796447, 1.5393804 ,\n",
       "       1.57079633, 1.60221225, 1.63362818, 1.66504411, 1.69646003,\n",
       "       1.72787596, 1.75929189, 1.79070781, 1.82212374, 1.85353967,\n",
       "       1.88495559, 1.91637152, 1.94778745, 1.97920337, 2.0106193 ,\n",
       "       2.04203522, 2.07345115, 2.10486708, 2.136283  , 2.16769893,\n",
       "       2.19911486, 2.23053078, 2.26194671, 2.29336264, 2.32477856,\n",
       "       2.35619449, 2.38761042, 2.41902634, 2.45044227, 2.4818582 ,\n",
       "       2.51327412, 2.54469005, 2.57610598, 2.6075219 , 2.63893783,\n",
       "       2.67035376, 2.70176968, 2.73318561, 2.76460154, 2.79601746,\n",
       "       2.82743339, 2.85884931, 2.89026524, 2.92168117, 2.95309709,\n",
       "       2.98451302, 3.01592895, 3.04734487, 3.0787608 , 3.11017673])"
      ]
     },
     "execution_count": 22,
     "metadata": {},
     "output_type": "execute_result"
    }
   ],
   "source": [
    "np.arange(0, np.pi, np.pi / 100)"
   ]
  },
  {
   "cell_type": "code",
   "execution_count": 33,
   "metadata": {},
   "outputs": [
    {
     "data": {
      "text/plain": [
       "-1.0"
      ]
     },
     "execution_count": 33,
     "metadata": {},
     "output_type": "execute_result"
    },
    {
     "ename": "",
     "evalue": "",
     "output_type": "error",
     "traceback": [
      "\u001b[1;31mThe Kernel crashed while executing code in the the current cell or a previous cell. Please review the code in the cell(s) to identify a possible cause of the failure. Click <a href='https://aka.ms/vscodeJupyterKernelCrash'>here</a> for more info. View Jupyter <a href='command:jupyter.viewOutput'>log</a> for further details."
     ]
    }
   ],
   "source": [
    "np.cos(np.pi)"
   ]
  },
  {
   "cell_type": "code",
   "execution_count": null,
   "metadata": {},
   "outputs": [],
   "source": []
  }
 ],
 "metadata": {
  "kernelspec": {
   "display_name": "qvenv",
   "language": "python",
   "name": "python3"
  },
  "language_info": {
   "codemirror_mode": {
    "name": "ipython",
    "version": 3
   },
   "file_extension": ".py",
   "mimetype": "text/x-python",
   "name": "python",
   "nbconvert_exporter": "python",
   "pygments_lexer": "ipython3",
   "version": "3.10.6"
  }
 },
 "nbformat": 4,
 "nbformat_minor": 2
}
