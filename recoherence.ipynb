{
 "cells": [
  {
   "cell_type": "code",
   "execution_count": 171,
   "metadata": {},
   "outputs": [],
   "source": [
    "import json\n",
    "import pennylane as qml\n",
    "import pennylane.numpy as np\n",
    "\n",
    "dev = qml.device(\"default.qubit\", wires=5)\n",
    "\n",
    "\n",
    "@qml.qnode(dev)\n",
    "def evolve_state(coeffs, time):\n",
    "    \"\"\"\n",
    "    Args:\n",
    "        coeffs (list(float)): A list of the coupling constants g_1, g_2, g_3, and g_4\n",
    "        time (float): The evolution time of th system under the given Hamiltonian\n",
    "\n",
    "    Returns:\n",
    "        (numpy.tensor): The density matrix for the evolved state of the central spin.\n",
    "    \"\"\"\n",
    "\n",
    "    # We build the Hamiltonian for you\n",
    "\n",
    "    operators = [\n",
    "        qml.PauliZ(0) @ qml.PauliZ(1),\n",
    "        qml.PauliZ(0) @ qml.PauliZ(2),\n",
    "        qml.PauliZ(0) @ qml.PauliZ(3),\n",
    "        qml.PauliZ(0) @ qml.PauliZ(4),\n",
    "    ]\n",
    "    hamiltonian = qml.Hamiltonian(coeffs, operators)\n",
    "\n",
    "\n",
    "    # Put your code here #\n",
    "    qml.RX(np.pi / 2, wires=0)\n",
    "    qml.RX(0.4, wires=1)\n",
    "    qml.RX(1.2, wires=2)\n",
    "    qml.RX(1.8, wires=3)\n",
    "    qml.RX(0.6, wires=4)\n",
    "    qml.templates.ApproxTimeEvolution(hamiltonian, time, 10)\n",
    "\n",
    "    # Return the required density matrix.\n",
    "    return qml.density_matrix(wires=0)\n",
    "\n",
    "\n",
    "def purity(rho):\n",
    "    \"\"\"\n",
    "    Args:\n",
    "        rho (array(array(complex))): An array-like object representing a density matrix\n",
    "\n",
    "    Returns:\n",
    "        (float): The purity of the density matrix rho\n",
    "\n",
    "    \"\"\"\n",
    "\n",
    "\n",
    "    # Put your code here\n",
    "    # Return the purity\n",
    "    return np.trace(np.dot(rho, rho))\n",
    "\n",
    "\n",
    "def recoherence_time(coeffs):\n",
    "    \"\"\"\n",
    "    Args:\n",
    "        coeffs (list(float)): A list of the coupling constants g_1, g_2, g_3, and g_4.\n",
    "\n",
    "    Returns:\n",
    "        (float): The recoherence time of the central spin.\n",
    "\n",
    "    \"\"\"\n",
    "    upper = np.pi * 10\n",
    "    error = 5e-2\n",
    "    num_steps = 5 * int(upper / error)\n",
    "    print(num_steps)\n",
    "    steps = np.linspace(0, upper, num_steps)\n",
    "    found = False\n",
    "    window = [purity(evolve_state(coeffs, t)) for t in steps[:2]]\n",
    "    window.append(0)\n",
    "    for i in range(2, num_steps - 3):\n",
    "        window[2] = purity(evolve_state(coeffs, steps[i]))\n",
    "        if (abs(window[1] - 1.0) > 1e-2) or (window[1] < window[0]) or (window[1] < window[2]):\n",
    "            window[0] = window[1]\n",
    "            window[1] = window[2]\n",
    "            continue\n",
    "        found = True\n",
    "        break\n",
    "    print(window)\n",
    "    assert found\n",
    "    return steps[i]\n",
    "\n"
   ]
  },
  {
   "cell_type": "code",
   "execution_count": 172,
   "metadata": {},
   "outputs": [
    {
     "name": "stdout",
     "output_type": "stream",
     "text": [
      "3140\n",
      "[(0.9783246796027147+0j), (0.9982603341934984+0j), (0.995754238956585+0j)]\n",
      "0.3202643036472551\n"
     ]
    }
   ],
   "source": [
    "from matplotlib import pyplot as plt\n",
    "rec_time = recoherence_time([5, 5, 5, 5])\n",
    "print(rec_time)\n"
   ]
  },
  {
   "cell_type": "code",
   "execution_count": 173,
   "metadata": {},
   "outputs": [
    {
     "name": "stdout",
     "output_type": "stream",
     "text": [
      "Running test case 0 with input '[5,5,5,5]'...\n",
      "3140\n",
      "[(0.9783246796027147+0j), (0.9982603341934984+0j), (0.995754238956585+0j)]\n",
      "0.3202643036472551 0.314\n",
      "Correct!\n",
      "Running test case 1 with input '[1.1,1.3,1,2.3]'...\n",
      "3140\n",
      "[(0.999785371377115+0j), (0.9997853713771189+0j), (0.9980720968819021+0j)]\n",
      "15.722975657182431 15.71\n",
      "Correct!\n"
     ]
    }
   ],
   "source": [
    "\n",
    "# These functions are responsible for testing the solution.\n",
    "def run(test_case_input: str) -> str:\n",
    "    params = json.loads(test_case_input)\n",
    "    output = recoherence_time(params)\n",
    "\n",
    "    return str(output)\n",
    "\n",
    "\n",
    "def check(solution_output: str, expected_output: str) -> None:\n",
    "    solution_output = json.loads(solution_output)\n",
    "    expected_output = json.loads(expected_output)\n",
    "    print(solution_output, expected_output)\n",
    "    assert np.isclose(solution_output, expected_output, rtol=5e-2)\n",
    "\n",
    "\n",
    "# These are the public test cases\n",
    "test_cases = [\n",
    "    ('[5,5,5,5]', '0.314'),\n",
    "    ('[1.1,1.3,1,2.3]', '15.71')\n",
    "]\n",
    "\n",
    "# This will run the public test cases locally\n",
    "for i, (input_, expected_output) in enumerate(test_cases):\n",
    "    print(f\"Running test case {i} with input '{input_}'...\")\n",
    "\n",
    "    try:\n",
    "        output = run(input_)\n",
    "\n",
    "    except Exception as exc:\n",
    "        print(f\"Runtime Error. {exc}\")\n",
    "\n",
    "    else:\n",
    "        if message := check(output, expected_output):\n",
    "            print(f\"Wrong Answer. Have: '{output}'. Want: '{expected_output}'.\")\n",
    "\n",
    "        else:\n",
    "            print(\"Correct!\")"
   ]
  },
  {
   "cell_type": "code",
   "execution_count": 81,
   "metadata": {},
   "outputs": [
    {
     "data": {
      "text/plain": [
       "<function autograd.tracer.primitive.<locals>.f_wrapped(*args, **kwargs)>"
      ]
     },
     "execution_count": 81,
     "metadata": {},
     "output_type": "execute_result"
    }
   ],
   "source": [
    "np.trace"
   ]
  },
  {
   "cell_type": "code",
   "execution_count": 154,
   "metadata": {},
   "outputs": [
    {
     "data": {
      "text/plain": [
       "0.05"
      ]
     },
     "execution_count": 154,
     "metadata": {},
     "output_type": "execute_result"
    }
   ],
   "source": [
    "5e-2"
   ]
  },
  {
   "cell_type": "code",
   "execution_count": 156,
   "metadata": {},
   "outputs": [
    {
     "data": {
      "text/plain": [
       "628.3185307179585"
      ]
     },
     "execution_count": 156,
     "metadata": {},
     "output_type": "execute_result"
    }
   ],
   "source": [
    "10*np.pi / 5e-2"
   ]
  },
  {
   "cell_type": "code",
   "execution_count": null,
   "metadata": {},
   "outputs": [],
   "source": []
  }
 ],
 "metadata": {
  "kernelspec": {
   "display_name": "qvenv",
   "language": "python",
   "name": "python3"
  },
  "language_info": {
   "codemirror_mode": {
    "name": "ipython",
    "version": 3
   },
   "file_extension": ".py",
   "mimetype": "text/x-python",
   "name": "python",
   "nbconvert_exporter": "python",
   "pygments_lexer": "ipython3",
   "version": "3.10.6"
  }
 },
 "nbformat": 4,
 "nbformat_minor": 2
}
