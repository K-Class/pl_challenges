{
 "cells": [
  {
   "cell_type": "code",
   "execution_count": 1,
   "metadata": {},
   "outputs": [],
   "source": [
    "import pennylane.numpy as np\n",
    "import pennylane as qml"
   ]
  },
  {
   "cell_type": "code",
   "execution_count": 2,
   "metadata": {},
   "outputs": [],
   "source": [
    "coeffs = []\n",
    "obs = []\n",
    "num_qubits = 2\n",
    "h = 0.2\n",
    "for i in range(num_qubits):\n",
    "    for j in range(i+1, num_qubits):\n",
    "        coeffs.append(-1)\n",
    "        obs.append(qml.PauliZ(i) @ qml.PauliZ(j))\n",
    "for i in range(num_qubits):\n",
    "    coeffs.append(-h)\n",
    "    obs.append(qml.PauliX(i))\n",
    "hamiltonian = qml.Hamiltonian(coeffs, obs)"
   ]
  },
  {
   "cell_type": "code",
   "execution_count": 8,
   "metadata": {},
   "outputs": [
    {
     "ename": "EigvalsUndefinedError",
     "evalue": "",
     "output_type": "error",
     "traceback": [
      "\u001b[1;31m---------------------------------------------------------------------------\u001b[0m",
      "\u001b[1;31mEigvalsUndefinedError\u001b[0m                     Traceback (most recent call last)",
      "File \u001b[1;32md:\\Dev\\quantotto\\quantum\\qvenv\\lib\\site-packages\\pennylane\\operation.py:885\u001b[0m, in \u001b[0;36mOperator.eigvals\u001b[1;34m(self)\u001b[0m\n\u001b[0;32m    884\u001b[0m \u001b[38;5;28;01mtry\u001b[39;00m:\n\u001b[1;32m--> 885\u001b[0m     \u001b[38;5;28;01mreturn\u001b[39;00m \u001b[38;5;28mself\u001b[39m\u001b[38;5;241m.\u001b[39mcompute_eigvals(\u001b[38;5;241m*\u001b[39m\u001b[38;5;28mself\u001b[39m\u001b[38;5;241m.\u001b[39mparameters, \u001b[38;5;241m*\u001b[39m\u001b[38;5;241m*\u001b[39m\u001b[38;5;28mself\u001b[39m\u001b[38;5;241m.\u001b[39mhyperparameters)\n\u001b[0;32m    886\u001b[0m \u001b[38;5;28;01mexcept\u001b[39;00m EigvalsUndefinedError \u001b[38;5;28;01mas\u001b[39;00m e:\n\u001b[0;32m    887\u001b[0m     \u001b[38;5;66;03m# By default, compute the eigenvalues from the matrix representation if one is defined.\u001b[39;00m\n",
      "File \u001b[1;32md:\\Dev\\quantotto\\quantum\\qvenv\\lib\\site-packages\\pennylane\\operation.py:857\u001b[0m, in \u001b[0;36mOperator.compute_eigvals\u001b[1;34m(*params, **hyperparams)\u001b[0m\n\u001b[0;32m    837\u001b[0m \u001b[38;5;250m\u001b[39m\u001b[38;5;124mr\u001b[39m\u001b[38;5;124;03m\"\"\"Eigenvalues of the operator in the computational basis (static method).\u001b[39;00m\n\u001b[0;32m    838\u001b[0m \n\u001b[0;32m    839\u001b[0m \u001b[38;5;124;03mIf :attr:`diagonalizing_gates` are specified and implement a unitary :math:`U^{\\dagger}`,\u001b[39;00m\n\u001b[1;32m   (...)\u001b[0m\n\u001b[0;32m    855\u001b[0m \u001b[38;5;124;03m    tensor_like: eigenvalues\u001b[39;00m\n\u001b[0;32m    856\u001b[0m \u001b[38;5;124;03m\"\"\"\u001b[39;00m\n\u001b[1;32m--> 857\u001b[0m \u001b[38;5;28;01mraise\u001b[39;00m EigvalsUndefinedError\n",
      "\u001b[1;31mEigvalsUndefinedError\u001b[0m: ",
      "\nThe above exception was the direct cause of the following exception:\n",
      "\u001b[1;31mEigvalsUndefinedError\u001b[0m                     Traceback (most recent call last)",
      "Cell \u001b[1;32mIn[8], line 1\u001b[0m\n\u001b[1;32m----> 1\u001b[0m \u001b[43mhamiltonian\u001b[49m\u001b[38;5;241;43m.\u001b[39;49m\u001b[43meigvals\u001b[49m\u001b[43m(\u001b[49m\u001b[43m)\u001b[49m\n",
      "File \u001b[1;32md:\\Dev\\quantotto\\quantum\\qvenv\\lib\\site-packages\\pennylane\\operation.py:890\u001b[0m, in \u001b[0;36mOperator.eigvals\u001b[1;34m(self)\u001b[0m\n\u001b[0;32m    888\u001b[0m \u001b[38;5;28;01mif\u001b[39;00m \u001b[38;5;28mself\u001b[39m\u001b[38;5;241m.\u001b[39mhas_matrix:  \u001b[38;5;66;03m# pylint: disable=using-constant-test\u001b[39;00m\n\u001b[0;32m    889\u001b[0m     \u001b[38;5;28;01mreturn\u001b[39;00m qml\u001b[38;5;241m.\u001b[39mmath\u001b[38;5;241m.\u001b[39mlinalg\u001b[38;5;241m.\u001b[39meigvals(\u001b[38;5;28mself\u001b[39m\u001b[38;5;241m.\u001b[39mmatrix())\n\u001b[1;32m--> 890\u001b[0m \u001b[38;5;28;01mraise\u001b[39;00m EigvalsUndefinedError \u001b[38;5;28;01mfrom\u001b[39;00m \u001b[38;5;21;01me\u001b[39;00m\n",
      "\u001b[1;31mEigvalsUndefinedError\u001b[0m: "
     ]
    }
   ],
   "source": [
    "hamiltonian.eigvals()"
   ]
  },
  {
   "cell_type": "code",
   "execution_count": null,
   "metadata": {},
   "outputs": [],
   "source": []
  }
 ],
 "metadata": {
  "kernelspec": {
   "display_name": "qvenv",
   "language": "python",
   "name": "python3"
  },
  "language_info": {
   "codemirror_mode": {
    "name": "ipython",
    "version": 3
   },
   "file_extension": ".py",
   "mimetype": "text/x-python",
   "name": "python",
   "nbconvert_exporter": "python",
   "pygments_lexer": "ipython3",
   "version": "3.10.6"
  }
 },
 "nbformat": 4,
 "nbformat_minor": 2
}
