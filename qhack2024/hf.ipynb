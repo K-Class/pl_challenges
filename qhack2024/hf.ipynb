{
 "cells": [
  {
   "cell_type": "code",
   "execution_count": 1,
   "metadata": {},
   "outputs": [],
   "source": [
    "import json\n",
    "import pennylane as qml\n",
    "import pennylane.numpy as np\n",
    "\n",
    "def potential_energy_surface(symbols, bond_lengths):\n",
    "    \"\"\"Calculates the molecular energy over various bond lengths (AKA the \n",
    "    potential energy surface) using the Hartree Fock method.\n",
    "    \n",
    "    Args:\n",
    "        symbols (list(string)): \n",
    "            A list of atomic symbols that comprise the diatomic molecule of interest.\n",
    "        bond_lengths (numpy.tensor): Bond lengths to calculate the energy over.\n",
    "\n",
    "        \n",
    "    Returns:\n",
    "        hf_energies (numpy.tensor): \n",
    "            The Hartree Fock energies at every bond length value.\n",
    "    \"\"\"\n",
    "\n",
    "\n",
    "    hf_energies = []\n",
    "\n",
    "    # Put your code here #\n",
    "    for bl in bond_lengths:\n",
    "        geometry = np.array([[0.0, 0.0, 0.0], [0.0, 0.0, bl]], requires_grad=False)\n",
    "        mol = qml.qchem.Molecule(symbols, geometry)\n",
    "        args = []\n",
    "        hfe = float(qml.qchem.hf_energy(mol)(*args))\n",
    "        print(bl, hfe)\n",
    "        hf_energies.append(hfe)\n",
    "\n",
    "    return np.array(hf_energies)\n",
    "\n",
    "\n",
    "def ground_energy(hf_energies):\n",
    "    \"\"\"Finds the minimum energy of a molecule given its potential energy surface.\n",
    "    \n",
    "    Args: \n",
    "        hf_energies (numpy.tensor): \n",
    "\n",
    "    Returns:\n",
    "        (float): The minumum energy in units of hartrees.\n",
    "    \"\"\"\n",
    "\n",
    "    ind = np.argmin(hf_energies)\n",
    "    return hf_energies[ind]\n",
    "\n",
    "def reaction():\n",
    "    \"\"\"Calculates the energy of the reactants, the activation energy, and the energy of \n",
    "    the products in that order.\n",
    "\n",
    "    Returns:\n",
    "        (numpy.tensor): [E_reactants, E_activation, E_products]\n",
    "    \"\"\"\n",
    "    molecules = {\n",
    "        \"H2\": \n",
    "            {\"symbols\": [\"H\", \"H\"], \"E0\": 0, \"E_dissociation\": 0, \"bond lengths\": np.arange(0.5, 9.3, 0.3)}, \n",
    "        \"Li2\": \n",
    "            {\"symbols\": [\"Li\", \"Li\"], \"E0\": 0, \"E_dissociation\": 0, \"bond lengths\": np.arange(3.5, 8.3, 0.3)}, \n",
    "        \"LiH\": \n",
    "            {\"symbols\": [\"Li\", \"H\"], \"E0\": 0, \"E_dissociation\": 0, \"bond lengths\": np.arange(2.0, 6.6, 0.3)}\n",
    "    }\n",
    "\n",
    "\n",
    "    for molecule in molecules.keys():\n",
    "        # Put your code here #\n",
    "        # populate each molecule's E0 and E_dissociation values\n",
    "        symbols = molecules[molecule][\"symbols\"]\n",
    "        bond_lengths = molecules[molecule][\"bond lengths\"]\n",
    "        surface = potential_energy_surface(symbols, bond_lengths)\n",
    "        molecules[molecule][\"E0\"] = ground_energy(surface)\n",
    "        molecules[molecule][\"E_dissociation\"] = surface[-1] - molecules[molecule][\"E0\"]\n",
    "\n",
    "    print(molecules)\n",
    "    # Calculate the following and don't forget to balance the chemical reaction!\n",
    "    E_reactants = molecules[\"H2\"][\"E0\"] + molecules[\"Li2\"][\"E0\"] # calculate the energy of the reactants\n",
    "    print(molecules[\"H2\"][\"E0\"], molecules[\"Li2\"][\"E0\"], E_reactants)\n",
    "    E_activation = E_reactants + molecules[\"H2\"][\"E_dissociation\"] + molecules[\"Li2\"][\"E_dissociation\"]# calculate the activation energy\n",
    "    E_products = 2 * molecules[\"LiH\"][\"E0\"] # calculate the energy of the products\n",
    "\n",
    "    return np.array([E_reactants, E_activation, E_products])\n",
    "\n",
    "\n",
    "# These functions are responsible for testing the solution.\n",
    "def run(test_case_input: str) -> str:\n",
    "    output = reaction().tolist()\n",
    "    return str(output)\n",
    "\n",
    "def check(solution_output: str, expected_output: str) -> None:\n",
    "    solution_output = json.loads(solution_output)\n",
    "    expected_output = json.loads(expected_output)\n",
    "\n",
    "    assert np.allclose(solution_output, expected_output, rtol=1e-3)"
   ]
  },
  {
   "cell_type": "code",
   "execution_count": 2,
   "metadata": {},
   "outputs": [
    {
     "name": "stdout",
     "output_type": "stream",
     "text": [
      "0.5 -0.4033264393496765\n",
      "0.8 -0.9473079300456706\n",
      "1.1 -1.0945640978354803\n",
      "1.4000000000000001 -1.1167143252241292\n",
      "1.7000000000000002 -1.0920058494793878\n",
      "2.0 -1.0491709026155327\n",
      "2.3000000000000003 -0.9996432286624277\n",
      "2.6000000000000005 -0.9490431539959738\n",
      "2.9000000000000004 -0.9006035874143219\n",
      "3.2 -0.8560969204476949\n",
      "3.5000000000000004 -0.8163441599048512\n",
      "3.8000000000000007 -0.7815678379418212\n",
      "4.1000000000000005 -0.7516124578724555\n",
      "4.4 -0.7260968177167698\n",
      "4.700000000000001 -0.7045336828925524\n",
      "5.000000000000001 -0.6864159253791574\n",
      "5.300000000000001 -0.6712639761186157\n",
      "5.6000000000000005 -0.6586420265438699\n",
      "5.9 -0.6481581339728881\n",
      "6.200000000000001 -0.6394607916382166\n",
      "6.500000000000001 -0.6322374472517337\n",
      "6.800000000000001 -0.6262149984836574\n",
      "7.100000000000001 -0.6211603286313305\n",
      "7.400000000000001 -0.6168793575689004\n",
      "7.700000000000001 -0.613214204191016\n",
      "8.0 -0.6100388981892633\n",
      "8.3 -0.6072543972434878\n",
      "8.600000000000001 -0.6047836012724896\n",
      "8.900000000000002 -0.6025668256222872\n",
      "9.200000000000001 -0.6005579550476412\n",
      "3.5 -14.59252280061367\n",
      "3.8 -14.61081659172465\n",
      "4.1 -14.62371022515833\n",
      "4.3999999999999995 -14.632068446383816\n",
      "4.699999999999999 -14.636781788352021\n",
      "4.999999999999999 -14.638642875212284\n",
      "5.299999999999999 -14.638310067605897\n",
      "5.599999999999999 -14.636311846832683\n",
      "5.899999999999999 -14.633066128364742\n",
      "6.199999999999998 -14.628902209337328\n",
      "6.499999999999998 -14.62408025865865\n",
      "6.799999999999998 -14.618806855988183\n",
      "7.099999999999998 -14.613246779640304\n",
      "7.399999999999998 -14.607531791470162\n",
      "7.6999999999999975 -14.601767247743735\n",
      "7.999999999999997 -14.596037195802412\n",
      "8.299999999999997 -14.505442931370917\n",
      "2.0 -7.793554235038872\n",
      "2.3 -7.839068346334688\n",
      "2.5999999999999996 -7.859059155556065\n",
      "2.8999999999999995 -7.863267229642512\n",
      "3.1999999999999993 -7.85754042366146\n",
      "3.499999999999999 -7.845565360817069\n",
      "3.799999999999999 -7.8297340519484\n",
      "4.099999999999999 -7.81162431254501\n",
      "4.399999999999999 -7.792295662005985\n",
      "4.699999999999998 -7.772483365294983\n",
      "4.999999999999998 -7.752725337636975\n",
      "5.299999999999998 -7.733437678008788\n",
      "5.599999999999998 -7.714950821159769\n",
      "5.899999999999998 -7.697520457056871\n",
      "6.1999999999999975 -7.681328000243457\n",
      "6.499999999999997 -7.666482114901015\n",
      "{'H2': {'symbols': ['H', 'H'], 'E0': tensor(-1.11671433, requires_grad=True), 'E_dissociation': tensor(0.51615637, requires_grad=True), 'bond lengths': tensor([0.5, 0.8, 1.1, 1.4, 1.7, 2. , 2.3, 2.6, 2.9, 3.2, 3.5, 3.8, 4.1,\n",
      "        4.4, 4.7, 5. , 5.3, 5.6, 5.9, 6.2, 6.5, 6.8, 7.1, 7.4, 7.7, 8. ,\n",
      "        8.3, 8.6, 8.9, 9.2], requires_grad=True)}, 'Li2': {'symbols': ['Li', 'Li'], 'E0': tensor(-14.63864288, requires_grad=True), 'E_dissociation': tensor(0.13319994, requires_grad=True), 'bond lengths': tensor([3.5, 3.8, 4.1, 4.4, 4.7, 5. , 5.3, 5.6, 5.9, 6.2, 6.5, 6.8, 7.1,\n",
      "        7.4, 7.7, 8. , 8.3], requires_grad=True)}, 'LiH': {'symbols': ['Li', 'H'], 'E0': tensor(-7.86326723, requires_grad=True), 'E_dissociation': tensor(0.19678511, requires_grad=True), 'bond lengths': tensor([2. , 2.3, 2.6, 2.9, 3.2, 3.5, 3.8, 4.1, 4.4, 4.7, 5. , 5.3, 5.6,\n",
      "        5.9, 6.2, 6.5], requires_grad=True)}}\n",
      "-1.1167143252241292 -14.638642875212284 -15.755357200436412\n"
     ]
    },
    {
     "data": {
      "text/plain": [
       "tensor([-15.7553572 , -15.10600089, -15.72653446], requires_grad=True)"
      ]
     },
     "execution_count": 2,
     "metadata": {},
     "output_type": "execute_result"
    }
   ],
   "source": [
    "reaction()"
   ]
  },
  {
   "cell_type": "code",
   "execution_count": null,
   "metadata": {},
   "outputs": [],
   "source": [
    "molecules = {\n",
    "        \"H2\": \n",
    "            {\"symbols\": [\"H\", \"H\"], \"E0\": 0, \"E_dissociation\": 0, \"bond lengths\": np.arange(0.5, 9.3, 0.3)}, \n",
    "        \"Li2\": \n",
    "            {\"symbols\": [\"Li\", \"Li\"], \"E0\": 0, \"E_dissociation\": 0, \"bond lengths\": np.arange(3.5, 8.3, 0.3)}, \n",
    "        \"LiH\": \n",
    "            {\"symbols\": [\"Li\", \"H\"], \"E0\": 0, \"E_dissociation\": 0, \"bond lengths\": np.arange(2.0, 6.6, 0.3)}\n",
    "    }"
   ]
  },
  {
   "cell_type": "code",
   "execution_count": null,
   "metadata": {},
   "outputs": [],
   "source": [
    "for molecule in molecules.keys():\n",
    "    # Put your code here #\n",
    "    # populate each molecule's E0 and E_dissociation values\n",
    "    symbols = molecules[molecule][\"symbols\"]\n",
    "    bond_lengths = molecules[molecule][\"bond lengths\"]\n",
    "    surface = potential_energy_surface(symbols, bond_lengths)\n",
    "    molecules[molecule][\"E0\"] = ground_energy(surface)\n",
    "    molecules[molecule][\"E_dissociation\"] = surface[np.argmax(bond_lengths)]"
   ]
  },
  {
   "cell_type": "code",
   "execution_count": null,
   "metadata": {},
   "outputs": [],
   "source": [
    "molecules"
   ]
  },
  {
   "cell_type": "code",
   "execution_count": null,
   "metadata": {},
   "outputs": [],
   "source": [
    "E_reactants = molecules[\"H2\"][\"E0\"] + molecules[\"Li2\"][\"E0\"] # calculate the energy of the reactants \n",
    "E_activation = E_reactants + molecules[\"H2\"][\"E_dissociation\"] + molecules[\"Li2\"][\"E_dissociation\"]# calculate the activation energy\n",
    "E_products = 2 * molecules[\"LiH\"][\"E0\"] # calculate the energy of the products\n",
    "np.array([E_reactants, E_activation, E_products])"
   ]
  },
  {
   "cell_type": "code",
   "execution_count": null,
   "metadata": {},
   "outputs": [],
   "source": [
    "\n",
    "\n",
    "# These functions are responsible for testing the solution.\n",
    "def run(test_case_input: str) -> str:\n",
    "    output = reaction().tolist()\n",
    "    return str(output)\n",
    "\n",
    "def check(solution_output: str, expected_output: str) -> None:\n",
    "    solution_output = json.loads(solution_output)\n",
    "    expected_output = json.loads(expected_output)\n",
    "\n",
    "    assert np.allclose(solution_output, expected_output, rtol=1e-3)"
   ]
  },
  {
   "cell_type": "code",
   "execution_count": null,
   "metadata": {},
   "outputs": [],
   "source": [
    "symbols = ['H', 'H']\n",
    "bls = np.arange(0.5, 9.3, 0.3)\n",
    "for bl in bls:\n",
    "    geometry = np.array([[0.0, 0.0, 0.0], [0.0, 0.0, bl]], requires_grad = True)\n",
    "    mol = qchem.Molecule(symbols, geometry)\n",
    "    args = []\n",
    "    print(float(qchem.hf_energy(mol)(*args)))"
   ]
  },
  {
   "cell_type": "code",
   "execution_count": null,
   "metadata": {},
   "outputs": [],
   "source": [
    "potential_energy_surface(['H', 'H'], np.arange(0.5, 9.3, 0.3))"
   ]
  },
  {
   "cell_type": "code",
   "execution_count": 10,
   "metadata": {},
   "outputs": [
    {
     "data": {
      "text/plain": [
       "array(-0.40332644)"
      ]
     },
     "execution_count": 10,
     "metadata": {},
     "output_type": "execute_result"
    }
   ],
   "source": [
    "symbols  = ['H', 'H']\n",
    "geometry = np.array([[0.0, 0.0, 0.0], [0.0, 0.0, 1.0]], requires_grad = False)\n",
    "alpha = np.array([[3.42525091, 0.62391373, 0.1688554], [3.42525091, 0.62391373, 0.1688554]], requires_grad=True)\n",
    "mol = qml.qchem.Molecule(symbols, np.array([[0.0, 0.0, 0.0], [0.0, 0.0, 0.5]], requires_grad=False))\n",
    "# mol = qml.qchem.Molecule(symbols, geometry, alpha=alpha)\n",
    "args = []\n",
    "qml.qchem.hf_energy(mol)(*args)"
   ]
  },
  {
   "cell_type": "code",
   "execution_count": null,
   "metadata": {},
   "outputs": [],
   "source": []
  }
 ],
 "metadata": {
  "kernelspec": {
   "display_name": "qvenv",
   "language": "python",
   "name": "python3"
  },
  "language_info": {
   "codemirror_mode": {
    "name": "ipython",
    "version": 3
   },
   "file_extension": ".py",
   "mimetype": "text/x-python",
   "name": "python",
   "nbconvert_exporter": "python",
   "pygments_lexer": "ipython3",
   "version": "3.10.6"
  }
 },
 "nbformat": 4,
 "nbformat_minor": 2
}
