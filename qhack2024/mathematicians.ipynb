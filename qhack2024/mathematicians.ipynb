{
 "cells": [
  {
   "cell_type": "code",
   "execution_count": 470,
   "metadata": {},
   "outputs": [],
   "source": [
    "import json\n",
    "import pennylane as qml\n",
    "import pennylane.numpy as np\n",
    "\n",
    "dev = qml.device(\"default.qubit\", wires = 5)\n",
    "\n",
    "@qml.qnode(dev)\n",
    "def circuit():\n",
    "    \"\"\"\n",
    "    Circuit in which you will prepare the Bell state with the allowed gates.\n",
    "    \"\"\"\n",
    "\n",
    "    # Put your code here #\n",
    "    qml.Hadamard(wires=0)\n",
    "    # CNOT 0-1\n",
    "    qml.Hadamard(wires=0)\n",
    "    qml.Hadamard(wires=1)\n",
    "    qml.QFT(wires=[0, 1, 2])\n",
    "    qml.QFT(wires=[0, 1, 2])\n",
    "    qml.Hadamard(wires=0)\n",
    "    qml.Hadamard(wires=1)\n",
    "    # CNOT 0-2\n",
    "    qml.Hadamard(wires=0)\n",
    "    qml.Hadamard(wires=2)\n",
    "    qml.QFT(wires=[0, 2, 3])\n",
    "    qml.QFT(wires=[0, 2, 3])\n",
    "    qml.Hadamard(wires=0)\n",
    "    qml.Hadamard(wires=2)\n",
    "    # CNOT 0-3\n",
    "    qml.Hadamard(wires=0)\n",
    "    qml.Hadamard(wires=3)\n",
    "    qml.QFT(wires=[0, 3, 4])\n",
    "    qml.QFT(wires=[0, 3, 4])\n",
    "    qml.Hadamard(wires=0)\n",
    "    qml.Hadamard(wires=3)\n",
    "\n",
    "    qml.Hadamard(wires=0)\n",
    "    qml.T(wires=0)\n",
    "    qml.T(wires=0)\n",
    "    qml.T(wires=0)\n",
    "    qml.T(wires=0)\n",
    "    qml.Hadamard(wires=0)\n",
    "\n",
    "    # CNOT 0-4\n",
    "    qml.Hadamard(wires=0)\n",
    "    qml.Hadamard(wires=4)\n",
    "    qml.QFT(wires=[0, 4, 1])\n",
    "    qml.QFT(wires=[0, 4, 1])\n",
    "    qml.Hadamard(wires=0)\n",
    "    qml.Hadamard(wires=4)\n",
    "\n",
    "    qml.Hadamard(wires=0)\n",
    "    qml.T(wires=0)\n",
    "    qml.T(wires=0)\n",
    "    qml.T(wires=0)\n",
    "    qml.T(wires=0)\n",
    "    qml.Hadamard(wires=0)\n",
    "    qml.Hadamard(wires=4)\n",
    "    qml.T(wires=4)\n",
    "    qml.T(wires=4)\n",
    "    qml.T(wires=4)\n",
    "    qml.T(wires=4)\n",
    "    qml.Hadamard(wires=4)\n",
    "\n",
    "\n",
    "    return qml.probs()\n",
    "\n"
   ]
  },
  {
   "cell_type": "code",
   "execution_count": 471,
   "metadata": {},
   "outputs": [
    {
     "name": "stdout",
     "output_type": "stream",
     "text": [
      "00000: 0.5\n",
      "00001: 3.34e-30\n",
      "00010: 2.59e-30\n",
      "00011: 4.77e-32\n",
      "00100: 1.85e-30\n",
      "00101: 1.55e-59\n",
      "00110: 1.65e-31\n",
      "00111: 1.36e-31\n",
      "01000: 6.7e-31\n",
      "01001: 2.79e-30\n",
      "01010: 7.17e-61\n",
      "01011: 1.45e-31\n",
      "01100: 1.6e-31\n",
      "01101: 8.5e-31\n",
      "01110: 1.06e-31\n",
      "01111: 1.26e-30\n",
      "10000: 1.22e-31\n",
      "10001: 4.24e-31\n",
      "10010: 5.17e-32\n",
      "10011: 4.61e-31\n",
      "10100: 8.8e-62\n",
      "10101: 5.16e-32\n",
      "10110: 5.83e-32\n",
      "10111: 7.62e-30\n",
      "11000: 4.94e-32\n",
      "11001: 1.68e-31\n",
      "11010: 6.18e-61\n",
      "11011: 1.32e-30\n",
      "11100: 3.24e-31\n",
      "11101: 2.09e-30\n",
      "11110: 4.11e-31\n",
      "11111: 0.5\n"
     ]
    }
   ],
   "source": [
    "probs = circuit()\n",
    "for i, p in enumerate(probs):\n",
    "    print(f\"{i:05b}: {p:.03}\")"
   ]
  },
  {
   "cell_type": "code",
   "execution_count": 56,
   "metadata": {},
   "outputs": [
    {
     "data": {
      "text/plain": [
       "array([[ 5.00000000e-01+0.0000000e+00j,  5.00000000e-01+0.0000000e+00j,\n",
       "         5.00000000e-01+0.0000000e+00j,  5.00000000e-01+0.0000000e+00j],\n",
       "       [ 5.00000000e-01+0.0000000e+00j,  3.06161700e-17+5.0000000e-01j,\n",
       "        -5.00000000e-01+6.1232340e-17j, -9.18485099e-17-5.0000000e-01j],\n",
       "       [ 5.00000000e-01+0.0000000e+00j, -5.00000000e-01+6.1232340e-17j,\n",
       "         5.00000000e-01-1.2246468e-16j, -5.00000000e-01+1.8369702e-16j],\n",
       "       [ 5.00000000e-01+0.0000000e+00j, -9.18485099e-17-5.0000000e-01j,\n",
       "        -5.00000000e-01+1.8369702e-16j,  2.75545530e-16+5.0000000e-01j]])"
      ]
     },
     "execution_count": 56,
     "metadata": {},
     "output_type": "execute_result"
    }
   ],
   "source": [
    "qml.QFT(wires=[0,1]).matrix()"
   ]
  },
  {
   "cell_type": "code",
   "execution_count": null,
   "metadata": {},
   "outputs": [],
   "source": []
  },
  {
   "cell_type": "code",
   "execution_count": 472,
   "metadata": {},
   "outputs": [
    {
     "name": "stdout",
     "output_type": "stream",
     "text": [
      "Running test case 0 with input 'No input'...\n",
      "Correct!\n"
     ]
    }
   ],
   "source": [
    "\n",
    "# These functions are responsible for testing the solution\n",
    "\n",
    "def run(case: str) -> str:\n",
    "    return \"No output\"\n",
    "\n",
    "def check(have: str, want: str) -> None:\n",
    "\n",
    "    assert np.isclose(circuit()[0], 0.5), \"The state is not correct\"\n",
    "    assert np.isclose(circuit()[-1], 0.5), \"The state is not correct\"\n",
    "\n",
    "    for op in circuit.tape.operations:\n",
    "      assert (isinstance(op, qml.Hadamard) or isinstance(op, qml.T) or isinstance(op, qml.QFT)), f\"You can only use Hadamard, T and QFT operators. You are using {op.name}\"\n",
    "      if isinstance(op, qml.QFT):\n",
    "        assert len(op.wires) == 3, \"QFT must act on 3 wires\"\n",
    "\n",
    "\n",
    "# These are the public test cases\n",
    "test_cases = [\n",
    "    ('No input', 'No output')\n",
    "]\n",
    "\n",
    "# This will run the public test cases locally\n",
    "for i, (input_, expected_output) in enumerate(test_cases):\n",
    "    print(f\"Running test case {i} with input '{input_}'...\")\n",
    "\n",
    "    try:\n",
    "        output = run(input_)\n",
    "\n",
    "    except Exception as exc:\n",
    "        print(f\"Runtime Error. {exc}\")\n",
    "\n",
    "    else:\n",
    "        if message := check(output, expected_output):\n",
    "            print(f\"Wrong Answer. Have: '{output}'. Want: '{expected_output}'.\")\n",
    "\n",
    "        else:\n",
    "            print(\"Correct!\")"
   ]
  },
  {
   "cell_type": "code",
   "execution_count": null,
   "metadata": {},
   "outputs": [],
   "source": []
  }
 ],
 "metadata": {
  "kernelspec": {
   "display_name": "qvenv",
   "language": "python",
   "name": "python3"
  },
  "language_info": {
   "codemirror_mode": {
    "name": "ipython",
    "version": 3
   },
   "file_extension": ".py",
   "mimetype": "text/x-python",
   "name": "python",
   "nbconvert_exporter": "python",
   "pygments_lexer": "ipython3",
   "version": "3.10.6"
  }
 },
 "nbformat": 4,
 "nbformat_minor": 2
}
