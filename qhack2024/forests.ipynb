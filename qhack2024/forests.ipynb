{
 "cells": [
  {
   "cell_type": "code",
   "execution_count": 21,
   "metadata": {},
   "outputs": [],
   "source": [
    "import json\n",
    "import pennylane as qml\n",
    "import pennylane.numpy as np\n",
    "\n",
    "def U():\n",
    "    \"\"\"\n",
    "    Creates the gate that checks the parity of the number of forests.\n",
    "    It should not return anything, you simply need to add the gates.\n",
    "    \"\"\"\n",
    "    # Put your code here #\n",
    "    qml.CNOT(wires=[0, 8])\n",
    "    for wire in range(7):\n",
    "        qml.ctrl(qml.PauliX, (wire, wire+1), control_values=(0, 1))(wires=8)\n",
    "\n"
   ]
  },
  {
   "cell_type": "code",
   "execution_count": 22,
   "metadata": {},
   "outputs": [
    {
     "data": {
      "text/plain": [
       "tensor(1., requires_grad=True)"
      ]
     },
     "execution_count": 22,
     "metadata": {},
     "output_type": "execute_result"
    }
   ],
   "source": [
    "dev = qml.device(\"default.qubit\", wires = 10, shots = 10)\n",
    "input = [1,0,1,1,0,1,1,1]\n",
    "wires_input = [0,1,2,3,4,5,6,7]\n",
    "@qml.qnode(dev)\n",
    "def circuit():\n",
    "    qml.BasisEmbedding(input, wires = wires_input)\n",
    "\n",
    "    U()\n",
    "\n",
    "    return qml.probs(wires = 8)\n",
    "\n",
    "circuit()[1]"
   ]
  },
  {
   "cell_type": "code",
   "execution_count": null,
   "metadata": {},
   "outputs": [],
   "source": []
  },
  {
   "cell_type": "code",
   "execution_count": 24,
   "metadata": {},
   "outputs": [
    {
     "name": "stdout",
     "output_type": "stream",
     "text": [
      "Running test case 0 with input '[1,0,1,1,0,1,1,1]'...\n",
      "1.0 1\n",
      "Correct!\n",
      "Running test case 1 with input '[1,1,1,0,1,1,0,1]'...\n",
      "1.0 1\n",
      "Correct!\n"
     ]
    }
   ],
   "source": [
    "# These functions are responsible for testing the solution.\n",
    "\n",
    "\n",
    "def run(test_case_input: str) -> str:\n",
    "\n",
    "    input = json.loads(test_case_input)\n",
    "    wires_input = [0,1,2,3,4,5,6,7]\n",
    "\n",
    "    dev = qml.device(\"default.qubit\", wires = 10, shots = 10)\n",
    "\n",
    "    @qml.qnode(dev)\n",
    "    def circuit():\n",
    "      qml.BasisEmbedding(input, wires = wires_input)\n",
    "\n",
    "      U()\n",
    "\n",
    "      return qml.probs(wires = 8)\n",
    "\n",
    "    return str(float(circuit()[1]))\n",
    "\n",
    "\n",
    "def check(have: str, want: str) -> None:\n",
    "    print(have, want)\n",
    "    assert np.isclose(float(have), float(want)), \"Wrong answer!\"\n",
    "\n",
    "\n",
    "# These are the public test cases\n",
    "test_cases = [\n",
    "    ('[1,0,1,1,0,1,1,1]', '1'),\n",
    "    ('[1,1,1,0,1,1,0,1]', '1')\n",
    "]\n",
    "\n",
    "# This will run the public test cases locally\n",
    "for i, (input_, expected_output) in enumerate(test_cases):\n",
    "    print(f\"Running test case {i} with input '{input_}'...\")\n",
    "\n",
    "    try:\n",
    "        output = run(input_)\n",
    "\n",
    "    except Exception as exc:\n",
    "        print(f\"Runtime Error. {exc}\")\n",
    "\n",
    "    else:\n",
    "        if message := check(output, expected_output):\n",
    "            print(f\"Wrong Answer. Have: '{output}'. Want: '{expected_output}'.\")\n",
    "\n",
    "        else:\n",
    "            print(\"Correct!\")"
   ]
  },
  {
   "cell_type": "code",
   "execution_count": null,
   "metadata": {},
   "outputs": [],
   "source": []
  }
 ],
 "metadata": {
  "kernelspec": {
   "display_name": "qvenv",
   "language": "python",
   "name": "python3"
  },
  "language_info": {
   "codemirror_mode": {
    "name": "ipython",
    "version": 3
   },
   "file_extension": ".py",
   "mimetype": "text/x-python",
   "name": "python",
   "nbconvert_exporter": "python",
   "pygments_lexer": "ipython3",
   "version": "3.10.6"
  }
 },
 "nbformat": 4,
 "nbformat_minor": 2
}
