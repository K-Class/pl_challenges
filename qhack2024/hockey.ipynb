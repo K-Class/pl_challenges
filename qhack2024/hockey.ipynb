{
 "cells": [
  {
   "cell_type": "code",
   "execution_count": 59,
   "metadata": {},
   "outputs": [],
   "source": [
    "import json\n",
    "import pennylane as qml\n",
    "import pennylane.numpy as np\n",
    "import scipy\n",
    "\n",
    "dev = qml.device(\"default.qubit\", wires=[\"player1\", \"player2\", \"goalie\"])\n",
    "\n",
    "\n",
    "# Put any extra functions you want here\n",
    "\n",
    "def calculate_rotation_angle_gamma(gamma, c):\n",
    "    alpha = np.arccos(gamma)\n",
    "    p = gamma ** 2\n",
    "    new_p = c * p\n",
    "    new_alpha = np.arccos(np.sqrt(new_p))\n",
    "    return new_alpha - alpha\n",
    "\n",
    "def calculate_rotation_angle_delta(delta, c):\n",
    "    alpha = np.arcsin(delta)\n",
    "    p = delta ** 2\n",
    "    new_p = c * p\n",
    "    new_alpha = np.arcsin(np.sqrt(new_p))\n",
    "    return alpha - new_alpha\n",
    "\n",
    "def both_bits_the_same(gamma, delta, x, y, z, wires):\n",
    "    rot = calculate_rotation_angle_delta(delta, z)\n",
    "    qml.RY(-2 * rot, wires=wires)\n",
    "\n",
    "def one_zero(gamma, delta, x, y, z, wires):\n",
    "    rot = calculate_rotation_angle_gamma(gamma, x)\n",
    "    qml.RY(2 * rot, wires=wires)\n",
    "\n",
    "def zero_one(gamma, delta, x, y, z, wires):\n",
    "    rot = calculate_rotation_angle_gamma(gamma, y)\n",
    "    qml.RY(2 * rot, wires=wires)\n",
    "\n",
    "def state_prep(player_coeffs, goalie_coeffs):\n",
    "    \"\"\"\n",
    "    Contains quantum operations that prepare |psi> and |phi>. We recommend using\n",
    "    qml.StatePrep!\n",
    "\n",
    "    Args:\n",
    "        - player_coeffs (list(float)): \n",
    "            The coefficients, alpha, beta, and kappa (in that order) that describe \n",
    "            the quantum state of players 1 and 2:\n",
    "\n",
    "            |psi> = alpha|01> + beta|10> + kappa(|00> + |11>)\n",
    "\n",
    "        - goalie_coeffs (list(float)):\n",
    "            The coefficients, gamma and delta (in that order) that describe \n",
    "            the quantum state of the goalie:\n",
    "\n",
    "            |phi> = gamma|0> + delta|1>\n",
    "    \"\"\"\n",
    "\n",
    "\n",
    "    alpha, beta, kappa = player_coeffs\n",
    "    gamma, delta = goalie_coeffs\n",
    "\n",
    "    # Put your code here #\n",
    "    qml.StatePrep([kappa, alpha, beta, kappa], wires=[\"player1\", \"player2\"])\n",
    "    qml.StatePrep([gamma, delta], wires=\"goalie\")\n",
    "\n",
    "@qml.qnode(dev)\n",
    "def save_percentage(player_coeffs, goalie_coeffs, x, y, z):\n",
    "    \"\"\"\n",
    "    Calculates the save percentage of the goalie.\n",
    "\n",
    "    NOTE: This QNode may only contain 7 operations or less (counting any \n",
    "    operations used in the state_prep function) and must use three conditional\n",
    "    measurements (i.e., 3 instances of qml.cond).\n",
    "\n",
    "    Args:\n",
    "        - player_coeffs (list(float)): \n",
    "            The coefficients, alpha, beta, and kappa (in that order) that describe \n",
    "            the quantum state of players 1 and 2:\n",
    "\n",
    "            |psi> = alpha|01> + beta|10> + kappa(|00> + |11>)\n",
    "\n",
    "        - goalie_coeffs (list(float)):\n",
    "            The coefficients, gamma and delta (in that order) that describe \n",
    "            the quantum state of the goalie:\n",
    "\n",
    "            |phi> = gamma|0> + delta|1>\n",
    "        \n",
    "        - x, y, z (float): \n",
    "            The amounts that affect the goalie's save percentage based on \n",
    "            measuring the players.\n",
    "\n",
    "    Returns:\n",
    "        - (numpy.tensor): The save percentage of the goalie.\n",
    "    \"\"\"\n",
    "    state_prep(player_coeffs, goalie_coeffs)\n",
    "    gamma, delta = goalie_coeffs\n",
    "\n",
    "    # Put your code here #\n",
    "    m1 = qml.measure(wires=\"player1\")\n",
    "    m2 = qml.measure(wires=\"player2\")\n",
    "    qml.cond(m1 & ~m2, one_zero)(gamma, delta, x, y, z, wires=\"goalie\")\n",
    "    qml.cond(~m1 & m2, zero_one)(gamma, delta, x, y, z, wires=\"goalie\")\n",
    "    qml.cond((m1 & m2) | (~m1 & ~m2), both_bits_the_same)(gamma, delta, x, y, z, wires=\"goalie\")\n",
    "\n",
    "    return qml.probs(wires=\"goalie\")\n",
    "\n"
   ]
  },
  {
   "cell_type": "code",
   "execution_count": 60,
   "metadata": {},
   "outputs": [
    {
     "name": "stdout",
     "output_type": "stream",
     "text": [
      "In one_zero\n",
      "alpha: 1.2866431987817415 p: 0.0785931171767296 new_p: 0.07851452405955286 new_alpha: 1.2867892603261062 rot: 0.0001460615443646951\n",
      "In zero one\n",
      "alpha: 1.2866431987817415 p: 0.0785931171767296 new_p: 0.0778071860049623 new_alpha: 1.2881068368884034 rot: 0.0014636381066619464\n",
      "In both_bits_the_same\n",
      "0.9214068773183481 0.9029787397719812 1.254043727714753\n"
     ]
    },
    {
     "data": {
      "text/plain": [
       "tensor([0.08584768, 0.91415233], requires_grad=True)"
      ]
     },
     "execution_count": 60,
     "metadata": {},
     "output_type": "execute_result"
    }
   ],
   "source": [
    "save_percentage([0.74199663, 0.17932039, 0.45677413], [0.28034464, 0.95989941], 0.999, 0.99, 0.98)"
   ]
  },
  {
   "cell_type": "code",
   "execution_count": 51,
   "metadata": {},
   "outputs": [
    {
     "data": {
      "text/plain": [
       "0.07073380545905664"
      ]
     },
     "execution_count": 51,
     "metadata": {},
     "output_type": "execute_result"
    }
   ],
   "source": [
    "(0.28034464 ** 2) * 0.9"
   ]
  },
  {
   "cell_type": "code",
   "execution_count": null,
   "metadata": {},
   "outputs": [],
   "source": []
  },
  {
   "cell_type": "code",
   "execution_count": 61,
   "metadata": {},
   "outputs": [
    {
     "name": "stdout",
     "output_type": "stream",
     "text": [
      "Running test case 0 with input '[[0.74199663, 0.17932039, 0.45677413], [0.28034464, 0.95989941], 0.999, 0.99, 0.98]'...\n",
      "In one_zero\n",
      "alpha: 1.2866431987817415 p: 0.0785931171767296 new_p: 0.07851452405955286 new_alpha: 1.2867892603261062 rot: 0.0001460615443646951\n",
      "In zero one\n",
      "alpha: 1.2866431987817415 p: 0.0785931171767296 new_p: 0.0778071860049623 new_alpha: 1.2881068368884034 rot: 0.0014636381066619464\n",
      "In both_bits_the_same\n",
      "0.9214068773183481 0.9029787397719812 1.254043727714753\n",
      "Solution: [0.08584767898167227, 0.9141523338939507], Expected: [0.08584767923415959, 0.9141523336414634]\n",
      "Correct!\n",
      "Running test case 1 with input '[[0.09737041, 0.40230525, 0.64368839], [0.00111111, 0.99999938], 0.9, 0.95, 0.92]'...\n",
      "In one_zero\n",
      "alpha: 1.5696852165662736 p: 1.2345654321e-06 new_p: 1.11110888889e-06 new_alpha: 1.5697422351003978 rot: 5.70185341242091e-05\n",
      "In zero one\n",
      "alpha: 1.5696852165662736 p: 1.2345654321e-06 new_p: 1.172837160495e-06 new_alpha: 1.569713350516758 rot: 2.813395048439915e-05\n",
      "In both_bits_the_same\n",
      "0.9999987600003843 0.9199988592003536 1.2840376720685487\n",
      "Solution: [0.06629359694448805, 0.933706400818227], Expected: [0.06629469110239884, 0.9337053066603161]\n",
      "Correct!\n"
     ]
    }
   ],
   "source": [
    "\n",
    "# These functions are responsible for testing the solution.\n",
    "def run(test_case_input: str) -> str:\n",
    "    ins = json.loads(test_case_input)\n",
    "    player_coeffs, goalie_coeffs, x, y, z = ins\n",
    "    output = save_percentage(player_coeffs, goalie_coeffs, x, y, z).tolist()\n",
    "    return str(output)\n",
    "\n",
    "def check(solution_output: str, expected_output: str) -> None:\n",
    "    solution_output = json.loads(solution_output)\n",
    "    sp = solution_output\n",
    "    _sp = json.loads(expected_output)\n",
    "    print(f\"Solution: {sp}, Expected: {_sp}\")\n",
    "    ops = save_percentage.tape._ops\n",
    "    num_ops = len(ops)\n",
    "    num_cond = [op.name for op in ops].count('Conditional')\n",
    "    names = [op.name for op in ops]\n",
    "    state_prep_check = ('StatePrep' or 'MottonenStatePreparation' or 'AmplitudeEmbedding') in names\n",
    "\n",
    "    assert np.allclose(sp, _sp, rtol=1e-4), \"Your calculated save percentage is incorrect.\"\n",
    "    assert num_ops < 8, \"You used more than 7 operations in your save_percentage function.\"\n",
    "    assert num_ops > 2, \"You definitely need more than 2 operations...\"\n",
    "    assert state_prep_check, \"You can use StatePrep, MottonenStatePreparation, or AmplitudeEmbedding to prepare states.\"\n",
    "    assert num_cond == 3, \"You haven't used exactly 3 qml.cond operators.\"\n",
    "\n",
    "\n",
    "# These are the public test cases\n",
    "test_cases = [\n",
    "    ('[[0.74199663, 0.17932039, 0.45677413], [0.28034464, 0.95989941], 0.999, 0.99, 0.98]', '[0.08584767923415959, 0.9141523336414634]'),\n",
    "    ('[[0.09737041, 0.40230525, 0.64368839], [0.00111111, 0.99999938], 0.9, 0.95, 0.92]', '[0.06629469110239884, 0.9337053066603161]')\n",
    "]\n",
    "\n",
    "# This will run the public test cases locally\n",
    "for i, (input_, expected_output) in enumerate(test_cases):\n",
    "    print(f\"Running test case {i} with input '{input_}'...\")\n",
    "\n",
    "    try:\n",
    "        output = run(input_)\n",
    "\n",
    "    except Exception as exc:\n",
    "        print(f\"Runtime Error. {exc}\")\n",
    "\n",
    "    else:\n",
    "        if message := check(output, expected_output):\n",
    "            print(f\"Wrong Answer. Have: '{output}'. Want: '{expected_output}'.\")\n",
    "\n",
    "        else:\n",
    "            print(\"Correct!\")"
   ]
  },
  {
   "cell_type": "code",
   "execution_count": null,
   "metadata": {},
   "outputs": [],
   "source": []
  }
 ],
 "metadata": {
  "kernelspec": {
   "display_name": "qvenv",
   "language": "python",
   "name": "python3"
  },
  "language_info": {
   "codemirror_mode": {
    "name": "ipython",
    "version": 3
   },
   "file_extension": ".py",
   "mimetype": "text/x-python",
   "name": "python",
   "nbconvert_exporter": "python",
   "pygments_lexer": "ipython3",
   "version": "3.10.6"
  }
 },
 "nbformat": 4,
 "nbformat_minor": 2
}
