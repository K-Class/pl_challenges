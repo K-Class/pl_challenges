{
 "cells": [
  {
   "cell_type": "code",
   "execution_count": 10,
   "metadata": {},
   "outputs": [],
   "source": [
    "import pennylane as qml\n",
    "from pennylane import numpy as np\n",
    "import torch\n",
    "from torch.autograd import Variable"
   ]
  },
  {
   "cell_type": "code",
   "execution_count": 68,
   "metadata": {},
   "outputs": [],
   "source": [
    "num_qubits = 3"
   ]
  },
  {
   "cell_type": "code",
   "execution_count": 69,
   "metadata": {},
   "outputs": [],
   "source": [
    "def build_hamiltonian(h):\n",
    "    coeffs = []\n",
    "    obs = []\n",
    "    for i in range(num_qubits):\n",
    "        for j in range(i+1, num_qubits):\n",
    "            coeffs.append(-1)\n",
    "            obs.append(qml.PauliZ(i) @ qml.PauliZ(j))\n",
    "    for i in range(num_qubits):\n",
    "        coeffs.append(-h)\n",
    "        obs.append(qml.PauliX(i))\n",
    "    hamiltonian = qml.Hamiltonian(coeffs, obs)\n",
    "    return hamiltonian"
   ]
  },
  {
   "cell_type": "code",
   "execution_count": 84,
   "metadata": {},
   "outputs": [],
   "source": [
    "dev = qml.device(\"default.qubit\", wires=num_qubits)\n",
    "\n",
    "@qml.qnode(dev, interface=\"torch\")\n",
    "def circuit(params, hamiltonian):\n",
    "    for i in range(num_qubits):\n",
    "        qml.Rot(params[i * 3], params[i * 3 + 1], params[i * 3 + 2], wires=i)\n",
    "    return qml.expval(hamiltonian)\n",
    "\n",
    "@qml.qnode(dev)\n",
    "def circuit_state(params):\n",
    "    for i in range(num_qubits):\n",
    "        qml.Rot(params[i * 3], params[i * 3 + 1], params[i * 3 + 2], wires=i)\n",
    "    return qml.state()"
   ]
  },
  {
   "cell_type": "code",
   "execution_count": 85,
   "metadata": {},
   "outputs": [],
   "source": [
    "test_params = torch.tensor([0, np.pi/2, 0] * num_qubits)\n",
    "\n",
    "def cost(params, hamiltonian):\n",
    "    return circuit(params, hamiltonian)"
   ]
  },
  {
   "cell_type": "code",
   "execution_count": 86,
   "metadata": {},
   "outputs": [
    {
     "name": "stdout",
     "output_type": "stream",
     "text": [
      "Energy: 0.0\n"
     ]
    }
   ],
   "source": [
    "cost_check = cost(test_params, build_hamiltonian(0))\n",
    "print(f\"Energy: {cost_check}\")"
   ]
  },
  {
   "cell_type": "code",
   "execution_count": 87,
   "metadata": {},
   "outputs": [],
   "source": [
    "def optimize(h=0):\n",
    "    torch.manual_seed(56)\n",
    "    params = Variable((np.pi * torch.rand(3 * num_qubits, dtype=torch.float64)), requires_grad=True)\n",
    "    var_init = [params]\n",
    "    hamiltonian = build_hamiltonian(h)\n",
    "    cost_init = cost(params, hamiltonian)\n",
    "    opt = torch.optim.SGD(var_init, lr=0.1)\n",
    "    def closure():\n",
    "        opt.zero_grad()\n",
    "        loss = cost(params, hamiltonian)\n",
    "        loss.backward()\n",
    "        return loss\n",
    "\n",
    "    var_pt = [var_init]\n",
    "    cost_pt = [cost_init]\n",
    "    x = [0]\n",
    "\n",
    "    for i in range(100):\n",
    "        opt.step(closure)\n",
    "        if (i + 1) % 5 == 0:\n",
    "            x.append(i)\n",
    "            params_n = opt.param_groups[0][\"params\"][0]\n",
    "            costn = cost(params_n, hamiltonian)\n",
    "            var_pt.append([params_n])\n",
    "            cost_pt.append(costn)\n",
    "\n",
    "            # for clarity, the angles are printed as numpy arrays\n",
    "            #print(\"Energy after step {:5d}: {: .7f} | Angles: {}\".format(\n",
    "            #    i+1, costn, params_n.detach().numpy()),\"\\n\"\n",
    "            #)\n",
    "    state = circuit_state(params_n)\n",
    "    print(f\"FINAL ENERGY: {costn}, ANGLES: {params_n.detach().numpy()}\\n\")\n",
    "    for i, s in enumerate(state.detach().numpy()):\n",
    "        print(f\"{i:0{num_qubits}b}: {abs(s) ** 2}\")\n",
    "    return state\n"
   ]
  },
  {
   "cell_type": "code",
   "execution_count": 88,
   "metadata": {},
   "outputs": [
    {
     "name": "stdout",
     "output_type": "stream",
     "text": [
      "FINAL ENERGY: -3.01372173594026, ANGLES: [1.96323939 3.21112746 2.34413844 0.65212549 3.22054849 2.48604503\n",
      " 1.87199129 3.19192402 2.10144832]\n",
      "\n",
      "000: 1.1917307950969227e-09\n",
      "001: 1.8809504771859744e-06\n",
      "010: 7.638678883638057e-07\n",
      "011: 0.0012056394573642692\n",
      "100: 9.851073079589788e-07\n",
      "101: 0.001554829386475772\n",
      "110: 0.0006314277035034398\n",
      "111: 0.9966044723352521\n",
      "FINAL ENERGY: -3.015226328292734, ANGLES: [1.96323939 3.2150007  2.34986893 0.65212549 3.22495371 2.49372249\n",
      " 1.87199129 3.19397808 2.0966456 ]\n",
      "\n",
      "000: 1.6036477123096257e-09\n",
      "001: 2.3364113465399154e-06\n",
      "010: 9.220178076756325e-07\n",
      "011: 0.00134332051299636\n",
      "100: 1.1893000210756135e-06\n",
      "101: 0.0017327334690480484\n",
      "110: 0.0006837884590758564\n",
      "111: 0.9962357082260566\n",
      "FINAL ENERGY: -3.0168300598446725, ANGLES: [1.96323939 3.21894398 2.35606258 0.65212549 3.22942443 2.50182611\n",
      " 1.87199129 3.19599554 2.0919425 ]\n",
      "\n",
      "000: 2.131571565683495e-09\n",
      "001: 2.879398782306531e-06\n",
      "010: 1.103819104756709e-06\n",
      "011: 0.0014910760855003289\n",
      "100: 1.4236102179294155e-06\n",
      "101: 0.0019230607097494717\n",
      "110: 0.0007372063793567606\n",
      "111: 0.9958432478657169\n",
      "FINAL ENERGY: -3.0185369501220998, ANGLES: [1.96323939 3.22296095 2.36271759 0.65212549 3.23396215 2.51034644\n",
      " 1.87199129 3.19797569 2.08732022]\n",
      "\n",
      "000: 2.8016961051138956e-09\n",
      "001: 3.5233351860768663e-06\n",
      "010: 1.311613842907099e-06\n",
      "011: 0.0016494491300555283\n",
      "100: 1.6907957915276501e-06\n",
      "101: 0.002126297814344101\n",
      "110: 0.0007915459359239029\n",
      "111: 0.9954261785731601\n"
     ]
    }
   ],
   "source": [
    "state = optimize(0.2)\n",
    "state = optimize(0.21)\n",
    "state = optimize(0.22)\n",
    "state = optimize(0.23)"
   ]
  },
  {
   "cell_type": "code",
   "execution_count": null,
   "metadata": {},
   "outputs": [],
   "source": []
  }
 ],
 "metadata": {
  "kernelspec": {
   "display_name": "qvenv",
   "language": "python",
   "name": "python3"
  },
  "language_info": {
   "codemirror_mode": {
    "name": "ipython",
    "version": 3
   },
   "file_extension": ".py",
   "mimetype": "text/x-python",
   "name": "python",
   "nbconvert_exporter": "python",
   "pygments_lexer": "ipython3",
   "version": "3.10.6"
  }
 },
 "nbformat": 4,
 "nbformat_minor": 2
}
