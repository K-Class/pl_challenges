{
 "cells": [
  {
   "cell_type": "code",
   "execution_count": 31,
   "metadata": {},
   "outputs": [],
   "source": [
    "from pprint import pprint"
   ]
  },
  {
   "cell_type": "code",
   "execution_count": 93,
   "metadata": {},
   "outputs": [],
   "source": [
    "import json\n",
    "import pennylane as qml\n",
    "import pennylane.numpy as np\n",
    "\n",
    "dev = qml.device('default.qutrit', wires = 1)\n",
    "\n",
    "@qml.qnode(dev)\n",
    "def prepare_qutrit(chi, eta):\n",
    "    \"\"\"\n",
    "    This QNode prepares the state |phi> as defined in the statement and\n",
    "    computes the measurement probabilities in the qutrit computational basis.\n",
    "    \n",
    "    Args: \n",
    "        - chi (float): The angle chi parametrizing the state |phi>.\n",
    "        - eta (float): The angle eta parametrizing the state |eta>.\n",
    "    Returns:\n",
    "        - (np.array(float)): The measurement probabilities in the computational\n",
    "        basis after preparing the state.\n",
    "    \n",
    "    \"\"\"\n",
    "\n",
    "\n",
    "    # Put your code here #\n",
    "    qml.TRY(2*chi, wires=0)\n",
    "    qml.TRY(-2*((np.pi/2) - eta), subspace=(1, 2), wires=0)\n",
    "    qml.TRY(np.pi, subspace=(0, 2), wires=0)\n",
    "    return qml.probs()\n",
    "\n",
    "\n",
    "def evaluate_sum(chi, eta_array):\n",
    "    \"\"\"\n",
    "    This QNode computes the sum S as in the statement.\n",
    "    \n",
    "    Args: \n",
    "        chi (float): The angle chi parametrizing the states |phi_i>.\n",
    "        eta_array (float): Contains the angles eta_i parametrizing the state |eta_i>.\n",
    "    Returns:\n",
    "        (np.array(float)): The sum S as defined in the statement.\n",
    "        \n",
    "    \"\"\"\n",
    "\n",
    "\n",
    "    # Put your code here\n",
    "    my_sum = 0\n",
    "    for eta in eta_array:\n",
    "        my_sum += prepare_qutrit(chi, eta)[2]\n",
    "    return my_sum\n",
    "\n",
    "# These functions are responsible for testing the solution.\n"
   ]
  },
  {
   "cell_type": "code",
   "execution_count": 94,
   "metadata": {},
   "outputs": [
    {
     "data": {
      "text/plain": [
       "2.2360685700304628"
      ]
     },
     "execution_count": 94,
     "metadata": {},
     "output_type": "execute_result"
    }
   ],
   "source": [
    "evaluate_sum(0.838283, [0.6283189, 1.884956, 3.141593, 4.398230, 5.654867])"
   ]
  },
  {
   "cell_type": "code",
   "execution_count": 22,
   "metadata": {},
   "outputs": [
    {
     "data": {
      "text/plain": [
       "0.7071067811865476"
      ]
     },
     "execution_count": 22,
     "metadata": {},
     "output_type": "execute_result"
    }
   ],
   "source": [
    "np.sin(np.pi/4)"
   ]
  },
  {
   "cell_type": "code",
   "execution_count": 41,
   "metadata": {},
   "outputs": [
    {
     "name": "stdout",
     "output_type": "stream",
     "text": [
      "array([[1. +0.j       , 0. +0.j       , 0. +0.j       ],\n",
      "       [0. +0.j       , 0.5+0.j       , 0. -0.8660254j],\n",
      "       [0. +0.j       , 0. -0.8660254j, 0.5+0.j       ]])\n"
     ]
    }
   ],
   "source": [
    "m = qml.TRX(2 * np.pi/3, wires=0, subspace=(1, 2)).matrix()\n",
    "pprint(m)"
   ]
  },
  {
   "cell_type": "code",
   "execution_count": 34,
   "metadata": {},
   "outputs": [
    {
     "data": {
      "text/plain": [
       "0.8660254037844386"
      ]
     },
     "execution_count": 34,
     "metadata": {},
     "output_type": "execute_result"
    }
   ],
   "source": [
    "np.sin(np.pi/3)"
   ]
  },
  {
   "cell_type": "code",
   "execution_count": null,
   "metadata": {},
   "outputs": [],
   "source": []
  },
  {
   "cell_type": "code",
   "execution_count": 95,
   "metadata": {},
   "outputs": [
    {
     "name": "stdout",
     "output_type": "stream",
     "text": [
      "Running test case 0 with input '[0.838283, [0.6283189, 1.884956, 3.141593, 4.398230, 5.654867]]'...\n",
      "2.2360685700304628 2.236069\n",
      "Correct!\n",
      "Running test case 1 with input '[0.4, [1.047198, 2.094395, 3.141593, 4.18879, 5.235988]]'...\n",
      "4.241766773367914 4.241767\n",
      "Correct!\n"
     ]
    }
   ],
   "source": [
    "\n",
    "def run(test_case_input: str) -> str:\n",
    "    ins = json.loads(test_case_input)\n",
    "    outs = evaluate_sum(*ins)\n",
    "    \n",
    "    return str(outs)\n",
    "\n",
    "\n",
    "def check(solution_output: str, expected_output: str) -> None:\n",
    "    solution_output = json.loads(solution_output)\n",
    "    expected_output = json.loads(expected_output)\n",
    "    print(solution_output, expected_output)\n",
    "    assert np.allclose(solution_output,expected_output, atol = 1e-4), \"Not the correct sum!\"\n",
    "\n",
    "\n",
    "# These are the public test cases\n",
    "test_cases = [\n",
    "    ('[0.838283, [0.6283189, 1.884956, 3.141593, 4.398230, 5.654867]]', '2.236069'),\n",
    "    ('[0.4, [1.047198, 2.094395, 3.141593, 4.18879, 5.235988]]', '4.241767')\n",
    "]\n",
    "\n",
    "# This will run the public test cases locally\n",
    "for i, (input_, expected_output) in enumerate(test_cases):\n",
    "    print(f\"Running test case {i} with input '{input_}'...\")\n",
    "\n",
    "    try:\n",
    "        output = run(input_)\n",
    "\n",
    "    except Exception as exc:\n",
    "        print(f\"Runtime Error. {exc}\")\n",
    "\n",
    "    else:\n",
    "        if message := check(output, expected_output):\n",
    "            print(f\"Wrong Answer. Have: '{output}'. Want: '{expected_output}'.\")\n",
    "\n",
    "        else:\n",
    "            print(\"Correct!\")"
   ]
  },
  {
   "cell_type": "code",
   "execution_count": null,
   "metadata": {},
   "outputs": [],
   "source": []
  }
 ],
 "metadata": {
  "kernelspec": {
   "display_name": "qvenv",
   "language": "python",
   "name": "python3"
  },
  "language_info": {
   "codemirror_mode": {
    "name": "ipython",
    "version": 3
   },
   "file_extension": ".py",
   "mimetype": "text/x-python",
   "name": "python",
   "nbconvert_exporter": "python",
   "pygments_lexer": "ipython3",
   "version": "3.10.6"
  }
 },
 "nbformat": 4,
 "nbformat_minor": 2
}
