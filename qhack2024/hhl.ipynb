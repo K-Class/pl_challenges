{
 "cells": [
  {
   "cell_type": "code",
   "execution_count": 745,
   "metadata": {},
   "outputs": [],
   "source": [
    "import json\n",
    "import pennylane as qml\n",
    "import pennylane.numpy as np\n",
    "\n",
    "\n",
    "\n",
    "\n",
    "# Put any helper functions here that you want to make #\n",
    "\n",
    "def rotation_and_controls(k, bits):\n",
    "    control_values = [int(b) for b in f\"{k:0{bits}b}\"]\n",
    "    return 2 * np.arcsin(1 / k), control_values\n",
    "\n",
    "\n",
    "def encode_hermitian(A, wires):\n",
    "    \"\"\"\n",
    "    Encodes a hermitian matrix A as a unitary U = e^{iA}.\n",
    "\n",
    "    Args\n",
    "        - A (numpy.tensor): a 2x2 matrix\n",
    "        - b (numpy.tensor): a length-2 vector\n",
    "\n",
    "    Returns\n",
    "        - (qml.Operation): a unitary operation U = e^{iA}\n",
    "    \"\"\"\n",
    "    return qml.exp(qml.Hermitian(A, wires=wires), coeff=1j)\n",
    "\n",
    "\n",
    "def mint_to_lime(A, b):\n",
    "    \"\"\"\n",
    "    Calculates the optimal mint and lime proportions in the Mojito HHLime twist.\n",
    "\n",
    "    Args\n",
    "        - A (numpy.tensor): a 2x2 matrix\n",
    "        - b (numpy.tensor): a length-2 vector\n",
    "\n",
    "    Returns\n",
    "        - x (numpy.tensor): the solution to Ax = b\n",
    "        (int): the number of operations in your HHL circuit.\n",
    "    \"\"\"\n",
    "    b_qubits = 1\n",
    "    b_wires = [0]\n",
    "\n",
    "    qpe_qubits = 10\n",
    "    qpe_wires = list(range(b_qubits, b_qubits + qpe_qubits))\n",
    "\n",
    "    ancilla_qubits = 150\n",
    "    ancilla_wires = list(\n",
    "        range(b_qubits + qpe_qubits, ancilla_qubits + b_qubits + qpe_qubits)\n",
    "    )\n",
    "\n",
    "    all_wires = b_wires + qpe_wires + ancilla_wires\n",
    "    dev = qml.device(\"default.qubit\", wires=all_wires)\n",
    "\n",
    "    @qml.qnode(dev)\n",
    "    def HHL(A, b):\n",
    "        \"\"\"\n",
    "        Implements the HHL algorithm.\n",
    "        Args\n",
    "            - A (numpy.tensor): a 2x2 matrix\n",
    "            - b (numpy.tensor): a length-2 vector\n",
    "\n",
    "        Returns\n",
    "            - (numpy.tensor):\n",
    "                The probability distribution for the vector x, which is the\n",
    "                solution to Ax = b.\n",
    "        \"\"\"\n",
    "\n",
    "\n",
    "        # Put your code here #\n",
    "        qml.StatePrep(b, wires=b_wires)\n",
    "        U = encode_hermitian(A, wires=b_wires)\n",
    "        qpe_to_use = 10\n",
    "        qml.QuantumPhaseEstimation(\n",
    "            U,\n",
    "            estimation_wires=qpe_wires[:qpe_to_use]\n",
    "        )\n",
    "        for k in range(1, 2 ** qpe_to_use):\n",
    "            phi, control_values = rotation_and_controls(k, qpe_to_use)\n",
    "            qml.ctrl(qml.RY(phi, wires=ancilla_wires[0]), control=qpe_wires[:qpe_to_use], control_values=control_values)\n",
    "        qml.measure(wires=ancilla_wires[0], postselect=1)\n",
    "        qml.adjoint(qml.QuantumPhaseEstimation(\n",
    "            U,\n",
    "            estimation_wires=qpe_wires[:qpe_to_use]\n",
    "        ))\n",
    "        return qml.probs(wires=b_wires)\n",
    "\n",
    "    # we return probs, but we need the state itself (it will be real-valued)\n",
    "    x = np.sqrt(HHL(A, b))\n",
    "    #print(x)\n",
    "    #print(HHL.tape._ops)\n",
    "    return x, len(HHL.tape._ops)\n",
    "\n"
   ]
  },
  {
   "cell_type": "code",
   "execution_count": 744,
   "metadata": {},
   "outputs": [
    {
     "data": {
      "text/plain": [
       "(tensor([0.6015496 , 0.79883545], requires_grad=True), 259)"
      ]
     },
     "execution_count": 744,
     "metadata": {},
     "output_type": "execute_result"
    }
   ],
   "source": [
    "mint_to_lime(np.array([[1, -0.333333], [-0.333333, 1]]), np.array([0.48063554, 0.87692045]))\n"
   ]
  },
  {
   "cell_type": "code",
   "execution_count": 348,
   "metadata": {},
   "outputs": [
    {
     "data": {
      "text/plain": [
       "3.141592653589793"
      ]
     },
     "execution_count": 348,
     "metadata": {},
     "output_type": "execute_result"
    }
   ],
   "source": [
    "t = 3 * np.pi / 4\n",
    "2 * np.arcsin(1/(4*(2/3)*t/(2*np.pi)))"
   ]
  },
  {
   "cell_type": "code",
   "execution_count": 660,
   "metadata": {},
   "outputs": [
    {
     "data": {
      "text/plain": [
       "[1, 3]"
      ]
     },
     "execution_count": 660,
     "metadata": {},
     "output_type": "execute_result"
    }
   ],
   "source": [
    "[1,2,3][::2]"
   ]
  },
  {
   "cell_type": "code",
   "execution_count": 35,
   "metadata": {},
   "outputs": [],
   "source": [
    "mydev = qml.device(\"default.qubit\", wires=2)\n",
    "\n",
    "@qml.qnode(mydev)\n",
    "def my_circuit():\n",
    "    qml.PauliX(0)\n",
    "    # qml.CRY(np.pi, wires=[1, 0])\n",
    "    return qml.probs()"
   ]
  },
  {
   "cell_type": "code",
   "execution_count": 36,
   "metadata": {},
   "outputs": [
    {
     "data": {
      "text/plain": [
       "tensor([0., 0., 1., 0.], requires_grad=True)"
      ]
     },
     "execution_count": 36,
     "metadata": {},
     "output_type": "execute_result"
    }
   ],
   "source": [
    "my_circuit()"
   ]
  },
  {
   "cell_type": "code",
   "execution_count": 56,
   "metadata": {},
   "outputs": [
    {
     "data": {
      "text/plain": [
       "6.216537678860817"
      ]
     },
     "execution_count": 56,
     "metadata": {},
     "output_type": "execute_result"
    }
   ],
   "source": [
    "np.pi / (2*np.arcsin(1/4))"
   ]
  },
  {
   "cell_type": "code",
   "execution_count": 627,
   "metadata": {},
   "outputs": [
    {
     "data": {
      "text/plain": [
       "<function pennylane.math.multi_dispatch.expm(tensor, like=None)>"
      ]
     },
     "execution_count": 627,
     "metadata": {},
     "output_type": "execute_result"
    }
   ],
   "source": []
  },
  {
   "cell_type": "code",
   "execution_count": 747,
   "metadata": {},
   "outputs": [
    {
     "name": "stdout",
     "output_type": "stream",
     "text": [
      "Running test case 0 with input '[[[1, -0.333333], [-0.333333, 1]], [0.48063554, 0.87692045]]'...\n"
     ]
    },
    {
     "name": "stdout",
     "output_type": "stream",
     "text": [
      "Solution output: [0.6123100731658556, 0.7906177169126805]; Expected output: [0.6123100731658992, 0.7906177169127275]\n",
      "Correct!\n",
      "Running test case 1 with input '[[[0.456, -0.123], [-0.123, 0.123]], [0.96549299, 0.26042903]]'...\n",
      "Solution output: [0.5090526763759164, 0.8607353673888463]; Expected output: [0.5090526763759141, 0.8607353673888718]\n",
      "Correct!\n"
     ]
    }
   ],
   "source": [
    "\n",
    "\n",
    "# These functions are responsible for testing the solution.\n",
    "def run(test_case_input: str) -> str:\n",
    "    A, b = json.loads(test_case_input)\n",
    "    output, num_ops = mint_to_lime(np.array(A), np.array(b))\n",
    "    output = output.tolist()\n",
    "    output.append(num_ops)\n",
    "    return str(output)\n",
    "\n",
    "\n",
    "def check(solution_output: str, expected_output: str) -> None:\n",
    "    solution_output = json.loads(solution_output)\n",
    "    output = solution_output[:-1]\n",
    "    num_ops = solution_output[-1]\n",
    "    expected_output = json.loads(expected_output)\n",
    "\n",
    "    assert num_ops > 4, \"Your circuit should have a few more operations!\"\n",
    "    print(f\"Solution output: {output}; Expected output: {expected_output}\")\n",
    "    assert np.allclose(output, expected_output, rtol=1e-2)\n",
    "\n",
    "\n",
    "# These are the public test cases\n",
    "test_cases = [\n",
    "    ('[[[1, -0.333333], [-0.333333, 1]], [0.48063554, 0.87692045]]', '[0.6123100731658992, 0.7906177169127275]'),\n",
    "    ('[[[0.456, -0.123], [-0.123, 0.123]], [0.96549299, 0.26042903]]', '[0.5090526763759141, 0.8607353673888718]')\n",
    "]\n",
    "\n",
    "# This will run the public test cases locally\n",
    "for i, (input_, expected_output) in enumerate(test_cases):\n",
    "    print(f\"Running test case {i} with input '{input_}'...\")\n",
    "\n",
    "    try:\n",
    "        output = run(input_)\n",
    "\n",
    "    except Exception as exc:\n",
    "        print(f\"Runtime Error. {exc}\")\n",
    "\n",
    "    else:\n",
    "        if message := check(output, expected_output):\n",
    "            print(f\"Wrong Answer. Have: '{output}'. Want: '{expected_output}'.\")\n",
    "\n",
    "        else:\n",
    "            print(\"Correct!\")"
   ]
  },
  {
   "cell_type": "code",
   "execution_count": null,
   "metadata": {},
   "outputs": [],
   "source": []
  }
 ],
 "metadata": {
  "kernelspec": {
   "display_name": "qvenv",
   "language": "python",
   "name": "python3"
  },
  "language_info": {
   "codemirror_mode": {
    "name": "ipython",
    "version": 3
   },
   "file_extension": ".py",
   "mimetype": "text/x-python",
   "name": "python",
   "nbconvert_exporter": "python",
   "pygments_lexer": "ipython3",
   "version": "3.10.6"
  }
 },
 "nbformat": 4,
 "nbformat_minor": 2
}
