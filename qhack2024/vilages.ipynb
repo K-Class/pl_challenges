{
 "cells": [
  {
   "cell_type": "code",
   "execution_count": 6,
   "metadata": {
    "execution": {
     "iopub.execute_input": "2024-02-21T09:29:32.642646Z",
     "iopub.status.busy": "2024-02-21T09:29:32.642202Z",
     "iopub.status.idle": "2024-02-21T09:29:32.650633Z",
     "shell.execute_reply": "2024-02-21T09:29:32.649794Z",
     "shell.execute_reply.started": "2024-02-21T09:29:32.642613Z"
    }
   },
   "outputs": [],
   "source": [
    "import json\n",
    "import pennylane as qml\n",
    "import pennylane.numpy as np\n",
    "\n",
    "def circuit(oracle):\n",
    "    \"\"\"The circuit to find if the Bitland Kingdom was in danger.\n",
    "    You can query the oracle by calling oracle(wires=[0, 1, 2]).\"\"\"\n",
    "    \n",
    "\n",
    "    # Put your code here #\n",
    "    qml.CNOT(wires=[0,2])\n",
    "    qml.CNOT(wires=[2,0])\n",
    "    # qml.PauliX(wires=[2])\n",
    "    qml.Hadamard(wires=[0])\n",
    "    qml.CNOT(wires=[0,1])\n",
    "    qml.Hadamard(wires=[2])\n",
    "    # qml.PhaseShift(-np.pi, wires=[2])\n",
    "    \n",
    "    oracle(wires=[0,1,2])\n",
    "    qml.CNOT(wires=[2,1])\n",
    "    qml.CNOT(wires=[2,0])\n",
    "    qml.Hadamard(wires=[2])\n"
   ]
  },
  {
   "cell_type": "code",
   "execution_count": 7,
   "metadata": {
    "execution": {
     "iopub.execute_input": "2024-02-21T09:29:33.281355Z",
     "iopub.status.busy": "2024-02-21T09:29:33.280991Z",
     "iopub.status.idle": "2024-02-21T09:29:33.295121Z",
     "shell.execute_reply": "2024-02-21T09:29:33.294329Z",
     "shell.execute_reply.started": "2024-02-21T09:29:33.281325Z"
    }
   },
   "outputs": [
    {
     "name": "stdout",
     "output_type": "stream",
     "text": [
      "000 -4.3e-17j\n",
      "001 (-0.71-4.3e-17j)\n",
      "010 0j\n",
      "011 0j\n",
      "100 0j\n",
      "101 0j\n",
      "110 -4.3e-17j\n",
      "111 (0.71+4.3e-17j)\n"
     ]
    }
   ],
   "source": [
    "dev = qml.device(\"default.qubit\", wires=3)\n",
    "oracle, target = oracle_maker()\n",
    "@qml.qnode(dev)\n",
    "def test_circuit():\n",
    "    circuit(oracle)\n",
    "    return qml.state()\n",
    "\n",
    "state = test_circuit()\n",
    "#print(state)\n",
    "for i, s in enumerate(state):\n",
    "    print(f\"{i:03b}\", f\"{s:.02}\")"
   ]
  },
  {
   "cell_type": "code",
   "execution_count": 8,
   "metadata": {
    "execution": {
     "iopub.execute_input": "2024-02-21T09:29:35.083956Z",
     "iopub.status.busy": "2024-02-21T09:29:35.083489Z",
     "iopub.status.idle": "2024-02-21T09:29:35.087990Z",
     "shell.execute_reply": "2024-02-21T09:29:35.087102Z",
     "shell.execute_reply.started": "2024-02-21T09:29:35.083924Z"
    }
   },
   "outputs": [],
   "source": [
    "oracle, target = oracle_maker()"
   ]
  },
  {
   "cell_type": "code",
   "execution_count": 9,
   "metadata": {
    "execution": {
     "iopub.execute_input": "2024-02-21T09:29:35.716327Z",
     "iopub.status.busy": "2024-02-21T09:29:35.715629Z",
     "iopub.status.idle": "2024-02-21T09:29:35.728602Z",
     "shell.execute_reply": "2024-02-21T09:29:35.727746Z",
     "shell.execute_reply.started": "2024-02-21T09:29:35.716297Z"
    }
   },
   "outputs": [],
   "source": [
    "def oracle_maker():\n",
    "    # States order: |0> , |1>, -|0>, -|1>\n",
    "\n",
    "    indx = [[0, 0], [1, 0], [1, 1], [0, 1]]\n",
    "\n",
    "    # Village 00 -> |0>\n",
    "    # Village 10 -> |1>\n",
    "    # Village 11 -> -|0>\n",
    "    # Village 01 -> -|1>\n",
    "\n",
    "    np.random.shuffle(indx)\n",
    "    print(indx)\n",
    "\n",
    "    indices_00 = [index for index, value in enumerate(indx) if value == [0, 0]]\n",
    "    indices_11 = [index for index, value in enumerate(indx) if value == [1, 1]]\n",
    "\n",
    "    if set([indices_00[0], indices_11[0]]) == set([0, 1]) or set([indices_00[0], indices_11[0]]) == set([2, 3]):\n",
    "        target = 0\n",
    "    else:\n",
    "        target = 1\n",
    "\n",
    "    def oracle(wires):\n",
    "\n",
    "        class op(qml.operation.Operation):\n",
    "            num_wires = 3\n",
    "            grad_method = None\n",
    "\n",
    "            def __init__(self, wires, id=None):\n",
    "                super().__init__(wires=wires, id=id)\n",
    "\n",
    "            @property\n",
    "            def num_params(self):\n",
    "                return 0\n",
    "\n",
    "            @staticmethod\n",
    "            def compute_decomposition(wires):\n",
    "                wires_input = wires[:2]\n",
    "                wire_output = wires[2]\n",
    "\n",
    "                ops = []\n",
    "                ops.append(qml.ctrl(qml.PauliX(wires=wire_output), control=wires_input, control_values=indx[1]))\n",
    "\n",
    "                ops.append(\n",
    "                    qml.ctrl(qml.GlobalPhase(np.pi, wires=wire_output), control=wires_input, control_values=indx[2]))\n",
    "\n",
    "                ops.append(qml.ctrl(qml.PauliX(wires=wire_output), control=wires_input, control_values=indx[3]))\n",
    "                ops.append(\n",
    "                    qml.ctrl(qml.GlobalPhase(np.pi, wires=wire_output), control=wires_input, control_values=indx[3]))\n",
    "\n",
    "                return ops\n",
    "\n",
    "        return op(wires=wires)\n",
    "\n",
    "    return oracle, target"
   ]
  },
  {
   "cell_type": "code",
   "execution_count": 10,
   "metadata": {
    "execution": {
     "iopub.execute_input": "2024-02-21T09:29:36.311451Z",
     "iopub.status.busy": "2024-02-21T09:29:36.310742Z",
     "iopub.status.idle": "2024-02-21T09:29:37.335592Z",
     "shell.execute_reply": "2024-02-21T09:29:37.334735Z",
     "shell.execute_reply.started": "2024-02-21T09:29:36.311420Z"
    }
   },
   "outputs": [
    {
     "name": "stdout",
     "output_type": "stream",
     "text": [
      "Running test case 0 with input 'No input'...\n",
      "Correct!\n"
     ]
    }
   ],
   "source": [
    "# These functions are responsible for testing the solution.\n",
    "\n",
    "def oracle_maker():\n",
    "    # States order: |0> , |1>, -|0>, -|1>\n",
    "\n",
    "    indx = [[0, 0], [1, 0], [1, 1], [0, 1]]\n",
    "\n",
    "    # Village 00 -> |0>\n",
    "    # Village 10 -> |1>\n",
    "    # Village 11 -> -|0>\n",
    "    # Village 01 -> -|1>\n",
    "\n",
    "    np.random.shuffle(indx)\n",
    "\n",
    "    indices_00 = [index for index, value in enumerate(indx) if value == [0, 0]]\n",
    "    indices_11 = [index for index, value in enumerate(indx) if value == [1, 1]]\n",
    "\n",
    "    if set([indices_00[0], indices_11[0]]) == set([0, 1]) or set([indices_00[0], indices_11[0]]) == set([2, 3]):\n",
    "        target = 0\n",
    "    else:\n",
    "        target = 1\n",
    "\n",
    "    def oracle(wires):\n",
    "\n",
    "        class op(qml.operation.Operation):\n",
    "            num_wires = 3\n",
    "            grad_method = None\n",
    "\n",
    "            def __init__(self, wires, id=None):\n",
    "                super().__init__(wires=wires, id=id)\n",
    "\n",
    "            @property\n",
    "            def num_params(self):\n",
    "                return 0\n",
    "\n",
    "            @staticmethod\n",
    "            def compute_decomposition(wires):\n",
    "                wires_input = wires[:2]\n",
    "                wire_output = wires[2]\n",
    "\n",
    "                ops = []\n",
    "                ops.append(qml.ctrl(qml.PauliX(wires=wire_output), control=wires_input, control_values=indx[1]))\n",
    "\n",
    "                ops.append(\n",
    "                    qml.ctrl(qml.GlobalPhase(np.pi, wires=wire_output), control=wires_input, control_values=indx[2]))\n",
    "\n",
    "                ops.append(qml.ctrl(qml.PauliX(wires=wire_output), control=wires_input, control_values=indx[3]))\n",
    "                ops.append(\n",
    "                    qml.ctrl(qml.GlobalPhase(np.pi, wires=wire_output), control=wires_input, control_values=indx[3]))\n",
    "\n",
    "                return ops\n",
    "\n",
    "        return op(wires=wires)\n",
    "\n",
    "    return oracle, target\n",
    "\n",
    "\n",
    "def run(case: str) -> str:\n",
    "    return \"No output\"\n",
    "\n",
    "\n",
    "def check(have: str, want: str) -> None:\n",
    "    for _ in range(100):\n",
    "        oracle, target = oracle_maker()\n",
    "\n",
    "        dev = qml.device(\"default.qubit\", wires=3)\n",
    "\n",
    "        @qml.qnode(dev)\n",
    "        def test_circuit():\n",
    "            circuit(oracle)\n",
    "            return qml.probs(wires=2)\n",
    "\n",
    "        test_circuit()\n",
    "        assert [op.name for op in test_circuit.tape.operations].count(\"op\") == 1, \"You can use the oracle once.\"\n",
    "\n",
    "        assert np.isclose(test_circuit()[1], target), \"Wrong answer!\"\n",
    "\n",
    "\n",
    "# These are the public test cases\n",
    "test_cases = [\n",
    "    ('No input', 'No output')\n",
    "]\n",
    "\n",
    "# This will run the public test cases locally\n",
    "for i, (input_, expected_output) in enumerate(test_cases):\n",
    "    print(f\"Running test case {i} with input '{input_}'...\")\n",
    "\n",
    "    try:\n",
    "        output = run(input_)\n",
    "\n",
    "    except Exception as exc:\n",
    "        print(f\"Runtime Error. {exc}\")\n",
    "\n",
    "    else:\n",
    "        if message := check(output, expected_output):\n",
    "            print(f\"Wrong Answer. Have: '{output}'. Want: '{expected_output}'.\")\n",
    "\n",
    "        else:\n",
    "            print(\"Correct!\")"
   ]
  },
  {
   "cell_type": "code",
   "execution_count": 11,
   "metadata": {
    "execution": {
     "iopub.execute_input": "2024-02-21T09:29:37.501218Z",
     "iopub.status.busy": "2024-02-21T09:29:37.500870Z",
     "iopub.status.idle": "2024-02-21T09:29:37.510156Z",
     "shell.execute_reply": "2024-02-21T09:29:37.509377Z",
     "shell.execute_reply.started": "2024-02-21T09:29:37.501190Z"
    }
   },
   "outputs": [
    {
     "name": "stdout",
     "output_type": "stream",
     "text": [
      "The qubit was in the |+⟩ state\n"
     ]
    }
   ],
   "source": [
    "import pennylane as qml\n",
    "\n",
    "dev = qml.device(\"default.qubit\", wires=1)\n",
    "\n",
    "@qml.qnode(dev)\n",
    "def distinguish_states():\n",
    "    #qml.Hadamard(wires=0)  # Apply Hadamard gate to create |+⟩ state\n",
    "    qml.PauliX(0)\n",
    "    qml.Hadamard(wires=0)\n",
    "    return qml.expval(qml.PauliX(0))  # Measure in X-basis (Hadamard basis)\n",
    "\n",
    "result = distinguish_states()\n",
    "\n",
    "if result == 1:\n",
    "    print(\"The qubit was in the |1⟩ state\")\n",
    "else:\n",
    "    print(\"The qubit was in the |+⟩ state\")"
   ]
  },
  {
   "cell_type": "code",
   "execution_count": null,
   "metadata": {},
   "outputs": [],
   "source": []
  }
 ],
 "metadata": {
  "kernelspec": {
   "display_name": "Python 3 (ipykernel)",
   "language": "python",
   "name": "python3"
  },
  "language_info": {
   "codemirror_mode": {
    "name": "ipython",
    "version": 3
   },
   "file_extension": ".py",
   "mimetype": "text/x-python",
   "name": "python",
   "nbconvert_exporter": "python",
   "pygments_lexer": "ipython3",
   "version": "3.11.8"
  }
 },
 "nbformat": 4,
 "nbformat_minor": 4
}
