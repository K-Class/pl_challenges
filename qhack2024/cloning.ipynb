{
 "cells": [
  {
   "cell_type": "code",
   "execution_count": 75,
   "metadata": {},
   "outputs": [],
   "source": [
    "import json\n",
    "import pennylane as qml\n",
    "import pennylane.numpy as np\n",
    "\n",
    "\"\"\"[RY(tensor(0.84106867, requires_grad=True), wires=[1]),\n",
    " RY(tensor(2.03444394, requires_grad=True), wires=[2]),\n",
    " CNOT(wires=[1, 2]),\n",
    " RY(tensor(-1.10714872, requires_grad=True), wires=[2]),\n",
    " CNOT(wires=[1, 2])]\"\"\"\n",
    "\n",
    "\n",
    "\n",
    "# Write any helper functions you need here\n",
    "\n",
    "def state_prep_maker(c0, c1):\n",
    "    sqrt2 = np.sqrt(2)\n",
    "    state = np.array([(c0 + c1) / sqrt2, c1 / sqrt2, 0., c0 / sqrt2])\n",
    "    return qml.MottonenStatePreparation.compute_decomposition(state, wires=[1, 2])\n",
    "\n",
    "dev = qml.device('default.qubit', wires=[0,1,2])\n",
    "\n",
    "@qml.qnode(dev)\n",
    "def cloning_machine(coefficients, wire):\n",
    "    \n",
    "    \"\"\"\n",
    "    Returns the reduced density matrix on a wire for the cloning machine circuit.\n",
    "    \n",
    "    Args:\n",
    "        - coefficients (np.array(float)): an array [c0,c1] containing the coefficients parametrizing\n",
    "        the input state fed into the middle and bottom wires of the cloning machine.\n",
    "        wire (int): The wire on which we calculate the reduced density matrix.\n",
    "\n",
    "    Returns:\n",
    "        - np.tensor(complex): The reduced density matrix on wire = wire, as returned by qml.density_matrix.\n",
    "    \n",
    "    \"\"\"\n",
    "    \n",
    "\n",
    "\n",
    "    # Put your code here\n",
    "    c0, c1 = coefficients\n",
    "    state_prep_maker(c0, c1)\n",
    "    qml.CNOT(wires=(0, 1))\n",
    "    qml.CNOT(wires=(0, 2))\n",
    "    qml.CNOT(wires=(1, 0))\n",
    "    qml.CNOT(wires=(2, 0))\n",
    "    # Return the reduced density matrix\n",
    "    return qml.density_matrix(wires=wire)\n",
    "\n",
    "\n",
    "def fidelity(coefficients):\n",
    "    \n",
    "    \"\"\"\n",
    "    Calculates the fidelities between the reduced density matrices in wires 0 and 1 and the input state |0>.\n",
    "    \n",
    "    Args:\n",
    "        - coefficients (np.array(float)): an array [c0,c1] containing the coefficients parametrizing\n",
    "        the input state fed into the middle and bottom wires of the cloning machine.\n",
    "    Returns:\n",
    "        - (np.array(float)): An array whose elements are:\n",
    "            - 0th element:  The fidelity between the output reduced state on wire 0 and the state |0>.\n",
    "            - 1st element:  The fidelity between the output reduced state on wire 1 and the state |0>.    \n",
    "    \"\"\"\n",
    "    \n",
    "\n",
    "\n",
    "    # Put your code here\n",
    "    dm0 = cloning_machine(coefficients, 0)\n",
    "    dm1 = cloning_machine(coefficients, 1)\n",
    "    zero_state = np.array([1., 0.])\n",
    "    dm_zero = np.outer(zero_state, zero_state)\n",
    "    f0 = qml.math.fidelity(dm0, dm_zero)\n",
    "    f1 = qml.math.fidelity(dm1, dm_zero)\n",
    "    return np.array([f0, f1])\n",
    "\n"
   ]
  },
  {
   "cell_type": "code",
   "execution_count": 76,
   "metadata": {},
   "outputs": [
    {
     "data": {
      "text/plain": [
       "tensor([0.60848858, 0.98      ], requires_grad=True)"
      ]
     },
     "execution_count": 76,
     "metadata": {},
     "output_type": "execute_result"
    }
   ],
   "source": [
    "fidelity([0.2, 0.8848857801796105])\n"
   ]
  },
  {
   "cell_type": "code",
   "execution_count": 30,
   "metadata": {},
   "outputs": [
    {
     "data": {
      "text/plain": [
       "[RY(array(0.84106867), wires=[1]),\n",
       " RY(array(2.03444394), wires=[2]),\n",
       " CNOT(wires=[1, 2]),\n",
       " RY(array(-1.10714872), wires=[2]),\n",
       " CNOT(wires=[1, 2])]"
      ]
     },
     "execution_count": 30,
     "metadata": {},
     "output_type": "execute_result"
    }
   ],
   "source": [
    "qml.MottonenStatePreparation.compute_decomposition([0.81649658, 0.40824829, 0.        , 0.40824829], wires=[1, 2])"
   ]
  },
  {
   "cell_type": "code",
   "execution_count": null,
   "metadata": {},
   "outputs": [],
   "source": []
  },
  {
   "cell_type": "code",
   "execution_count": 78,
   "metadata": {},
   "outputs": [
    {
     "name": "stdout",
     "output_type": "stream",
     "text": [
      "Running test case 0 with input '[0.5773502691896258, 0.5773502691896257]'...\n",
      "Correct!\n",
      "Running test case 1 with input '[0.2, 0.8848857801796105]'...\n",
      "Correct!\n"
     ]
    }
   ],
   "source": [
    "\n",
    "# These functions are responsible for testing the solution.\n",
    "\n",
    "\n",
    "def run(test_case_input: str) -> str:\n",
    "    ins = json.loads(test_case_input)\n",
    "    outs = fidelity(ins).tolist()\n",
    "    \n",
    "    return str(outs)\n",
    "\n",
    "\n",
    "def check(solution_output: str, expected_output: str) -> None:\n",
    "    solution_output = json.loads(solution_output)\n",
    "    expected_output = json.loads(expected_output)\n",
    "    u = cloning_machine([1/np.sqrt(3),1/np.sqrt(3)],1)\n",
    "    for op in cloning_machine.tape.operations:\n",
    "        assert (isinstance(op, qml.RX) or isinstance(op, qml.RY) or isinstance(op, qml.CNOT)), \"You are using forbidden gates!\"\n",
    "    assert np.allclose(solution_output,expected_output, atol = 1e-4), \"Not the correct fidelities\"\n",
    "\n",
    "\n",
    "# These are the public test cases\n",
    "test_cases = [\n",
    "    ('[0.5773502691896258, 0.5773502691896257]', '[0.83333333, 0.83333333]'),\n",
    "    ('[0.2, 0.8848857801796105]', '[0.60848858, 0.98]')\n",
    "]\n",
    "\n",
    "# This will run the public test cases locally\n",
    "for i, (input_, expected_output) in enumerate(test_cases):\n",
    "    print(f\"Running test case {i} with input '{input_}'...\")\n",
    "\n",
    "    try:\n",
    "        output = run(input_)\n",
    "\n",
    "    except Exception as exc:\n",
    "        print(f\"Runtime Error. {exc}\")\n",
    "\n",
    "    else:\n",
    "        if message := check(output, expected_output):\n",
    "            print(f\"Wrong Answer. Have: '{output}'. Want: '{expected_output}'.\")\n",
    "\n",
    "        else:\n",
    "            print(\"Correct!\")"
   ]
  },
  {
   "cell_type": "code",
   "execution_count": null,
   "metadata": {},
   "outputs": [],
   "source": []
  }
 ],
 "metadata": {
  "kernelspec": {
   "display_name": "qvenv",
   "language": "python",
   "name": "python3"
  },
  "language_info": {
   "codemirror_mode": {
    "name": "ipython",
    "version": 3
   },
   "file_extension": ".py",
   "mimetype": "text/x-python",
   "name": "python",
   "nbconvert_exporter": "python",
   "pygments_lexer": "ipython3",
   "version": "3.10.6"
  }
 },
 "nbformat": 4,
 "nbformat_minor": 2
}
