{
 "cells": [
  {
   "cell_type": "code",
   "execution_count": 2,
   "metadata": {},
   "outputs": [],
   "source": [
    "import json\n",
    "import pennylane as qml\n",
    "import pennylane.numpy as np\n",
    "\n",
    "class AbsMagnetization(qml.measurements.StateMeasurement):\n",
    "    \"\"\"A measurement class that estimates <|M|>.\"\"\"\n",
    "\n",
    "    def process_state(self, state, wire_order):\n",
    "        \"\"\"Calculates <|M|>.\n",
    "\n",
    "        Args:\n",
    "            state (Sequence[complex]): quantum state with a flat shape. It may also have an\n",
    "                optional batch dimension.\n",
    "\n",
    "            wire_order (Wires): wires determining the subspace that the state acts on; a matrix of\n",
    "                dimension 2**n that acts on a subspace of n wires\n",
    "        \n",
    "        Returns: \n",
    "            abs_mag (float): <|M|>\n",
    "\n",
    "        \n",
    "        See the docs for more information:\n",
    "        https://docs.pennylane.ai/en/stable/code/api/pennylane.measurements.StateMeasurement.html\n",
    "        \"\"\"\n",
    "\n",
    "        state = qml.state().process_state(state, wire_order)\n",
    "\n",
    "        # Put your code here #\n",
    "        n = len(wire_order)\n",
    "        basis = []\n",
    "        for i in range(2 ** n):\n",
    "            sigma_i = [int(b) for b in f\"{i:0{n}b}\"]\n",
    "            basis.append(sigma_i)\n",
    "        M = 0.0\n",
    "        for i, bstate in enumerate(basis):\n",
    "            bstate_M = 0.\n",
    "            for spin in bstate:\n",
    "                bstate_M += ((abs(state[i]) ** 2) * (1 if spin == 1 else -1))\n",
    "            M += abs(bstate_M)\n",
    "        return float(M)\n",
    "\n",
    "\n",
    "def tfim_ground_state(num_qubits, h):\n",
    "    \"\"\"Calculates the ground state of the 1D TFIM Hamiltonian.\n",
    "\n",
    "    Args:\n",
    "        num_qubits (int): The number of qubits / spins.\n",
    "        h (float): The transverse field strength.\n",
    "\n",
    "    Returns:\n",
    "        (numpy.tensor): The ground state.\n",
    "    \"\"\"\n",
    "\n",
    "\n",
    "    # Put your code here #\n",
    "    def reduce(function, iterable, initializer=None):\n",
    "        it = iter(iterable)\n",
    "        if initializer is None:\n",
    "            value = next(it)\n",
    "        else:\n",
    "            value = initializer\n",
    "        for element in it:\n",
    "            value = function(value, element)\n",
    "        return value\n",
    "\n",
    "    def TransverseFieldIsing(N, h):\n",
    "        id = np.array([[1, 0], [0, 1]])\n",
    "        sigma_x = np.array([[0, 1], [1, 0]])\n",
    "        sigma_z = np.array([[1, 0], [0, -1]])\n",
    "\n",
    "        first_term_ops = np.tile(id, (N, 1, 1))\n",
    "        first_term_ops[0] = sigma_z\n",
    "        first_term_ops[1] = sigma_z\n",
    "\n",
    "        second_term_ops = np.tile(id, (N, 1, 1))\n",
    "        second_term_ops[0] = sigma_x\n",
    "        \n",
    "        H = np.zeros((2**N, 2**N), dtype=float)\n",
    "        for i in range(N-1):\n",
    "            H -= reduce(np.kron, first_term_ops)\n",
    "            first_term_ops = np.roll(first_term_ops, 1, axis=0)\n",
    "        \n",
    "        for _ in range(N):\n",
    "            H -= h * reduce(np.kron, second_term_ops)\n",
    "            second_term_ops = np.roll(second_term_ops, 1, axis=0)\n",
    "        return H\n",
    "\n",
    "    def diagonalize_hamiltonian(H):\n",
    "        # Diagonalize the Hamiltonian\n",
    "        eigenvalues, eigenvectors = np.linalg.eigh(H)\n",
    "        # Sort the eigenvalues and eigenvectors in ascending order\n",
    "        idx = np.argsort(eigenvalues)\n",
    "        eigenvalues = eigenvalues[idx]\n",
    "        eigenvectors = eigenvectors[:, idx]\n",
    "        return eigenvalues, eigenvectors\n",
    "    \n",
    "    H = TransverseFieldIsing(num_qubits, h)\n",
    "    eigenvalues, eigenvectors = diagonalize_hamiltonian(H)\n",
    "    i_0 = np.argmin(eigenvalues)\n",
    "    return eigenvectors[:, i_0]\n",
    "\n",
    "\n",
    "dev = qml.device(\"default.qubit\")\n",
    "\n",
    "\n",
    "@qml.qnode(dev)\n",
    "def magnetization(num_qubits, h):\n",
    "    \"\"\"Calculates the absolute value of the magnetization of the 1D TFIM\n",
    "    Hamiltonian.\n",
    "\n",
    "    Args:\n",
    "        num_qubits (int): The number of qubits / spins.\n",
    "        h (float): The transverse field strength.\n",
    "\n",
    "    Returns:\n",
    "        (float): <|M|>.\n",
    "    \"\"\"\n",
    "\n",
    "\n",
    "    # Put your code here #\n",
    "    state = tfim_ground_state(num_qubits, float(h))\n",
    "    qml.StatePrep(state, wires=range(num_qubits))\n",
    "    return AbsMagnetization(wires=list(range(num_qubits)))\n",
    "\n",
    "\n",
    "def critical_point_estimate(mags, h_values):\n",
    "    \"\"\"Provides a finite-size estimate of the critical point of the 1D TFIM\n",
    "    Hamiltonian. The estimate is done by taking the average value of h for which\n",
    "    adjacent values of <|M|> differ the most.\n",
    "\n",
    "    Args:\n",
    "        mags (numpy.tensor):\n",
    "            <|M|> values for various values of h (the transverse field strength).\n",
    "        h_values (numpy.tensor): The transverse field strength values.\n",
    "\n",
    "    Returns:\n",
    "        (float): The critical point estimate, h_c.\n",
    "    \"\"\"\n",
    "    differences = [np.abs(mags[i] - mags[i + 1]) for i in range(len(mags) - 1)]\n",
    "    ind = np.argmax(np.array(differences))\n",
    "\n",
    "    h_c = np.mean([h_values[ind], h_values[ind + 1]])\n",
    "    return h_c\n",
    "\n"
   ]
  },
  {
   "cell_type": "code",
   "execution_count": 3,
   "metadata": {},
   "outputs": [
    {
     "data": {
      "text/plain": [
       "tensor([1., 0., 0., 0.], requires_grad=True)"
      ]
     },
     "execution_count": 3,
     "metadata": {},
     "output_type": "execute_result"
    }
   ],
   "source": [
    "tfim_ground_state(2, 0.)"
   ]
  },
  {
   "cell_type": "code",
   "execution_count": 4,
   "metadata": {},
   "outputs": [
    {
     "data": {
      "text/plain": [
       "2.0"
      ]
     },
     "execution_count": 4,
     "metadata": {},
     "output_type": "execute_result"
    }
   ],
   "source": [
    "magnetization(2, 0.)"
   ]
  },
  {
   "cell_type": "code",
   "execution_count": null,
   "metadata": {},
   "outputs": [],
   "source": []
  },
  {
   "cell_type": "code",
   "execution_count": null,
   "metadata": {},
   "outputs": [],
   "source": []
  },
  {
   "cell_type": "code",
   "execution_count": 5,
   "metadata": {},
   "outputs": [
    {
     "data": {
      "text/plain": [
       "[0.9884299383349955,\n",
       " 0.9031775982439715,\n",
       " 0.7311877950729416,\n",
       " 0.6036208758603537]"
      ]
     },
     "execution_count": 5,
     "metadata": {},
     "output_type": "execute_result"
    }
   ],
   "source": [
    "h_values = np.arange(0.2, 1.1, 0.3)\n",
    "[magnetization(5, h) / 5 for h in h_values]"
   ]
  },
  {
   "cell_type": "code",
   "execution_count": 6,
   "metadata": {},
   "outputs": [
    {
     "name": "stdout",
     "output_type": "stream",
     "text": [
      "OUTPUT: 0.35250000000000015\n"
     ]
    }
   ],
   "source": [
    "num_qubits = 2\n",
    "h_values = np.arange(0.2, 1.1, 0.005)\n",
    "mags = []\n",
    "for h in h_values:\n",
    "    mags.append(magnetization(num_qubits, h) / num_qubits)\n",
    "output = critical_point_estimate(np.array(mags), h_values)\n",
    "print(f\"OUTPUT: {output}\")"
   ]
  },
  {
   "cell_type": "code",
   "execution_count": null,
   "metadata": {},
   "outputs": [],
   "source": [
    "np.vdot([1j, 1j], [1j, 1j])"
   ]
  },
  {
   "cell_type": "code",
   "execution_count": null,
   "metadata": {},
   "outputs": [],
   "source": []
  },
  {
   "cell_type": "code",
   "execution_count": 7,
   "metadata": {},
   "outputs": [
    {
     "name": "stdout",
     "output_type": "stream",
     "text": [
      "Running test case 0 with input '5'...\n",
      "Correct!\n",
      "Running test case 1 with input '2'...\n",
      "Correct!\n"
     ]
    }
   ],
   "source": [
    "\n",
    "# These functions are responsible for testing the solution.\n",
    "def run(test_case_input: str) -> str:\n",
    "    num_qubits = json.loads(test_case_input)\n",
    "    h_values = np.arange(0.2, 1.1, 0.005)\n",
    "    mags = []\n",
    "\n",
    "    for h in h_values:\n",
    "        mags.append(magnetization(num_qubits, h) / num_qubits)\n",
    "\n",
    "    output = critical_point_estimate(np.array(mags), h_values)\n",
    "\n",
    "    return str(output)\n",
    "\n",
    "\n",
    "def check(solution_output: str, expected_output: str) -> None:\n",
    "    solution_output = json.loads(solution_output)\n",
    "    expected_output = json.loads(expected_output)\n",
    "\n",
    "    assert np.isclose(solution_output, expected_output, rtol=5e-3)\n",
    "\n",
    "\n",
    "# These are the public test cases\n",
    "test_cases = [\n",
    "    ('5', '0.6735'),\n",
    "    ('2', '0.3535')\n",
    "]\n",
    "\n",
    "# This will run the public test cases locally\n",
    "for i, (input_, expected_output) in enumerate(test_cases):\n",
    "    print(f\"Running test case {i} with input '{input_}'...\")\n",
    "\n",
    "    try:\n",
    "        output = run(input_)\n",
    "\n",
    "    except Exception as exc:\n",
    "        print(f\"Runtime Error. {exc}\")\n",
    "\n",
    "    else:\n",
    "        if message := check(output, expected_output):\n",
    "            print(f\"Wrong Answer. Have: '{output}'. Want: '{expected_output}'.\")\n",
    "\n",
    "        else:\n",
    "            print(\"Correct!\")"
   ]
  },
  {
   "cell_type": "code",
   "execution_count": 1,
   "metadata": {},
   "outputs": [
    {
     "name": "stdout",
     "output_type": "stream",
     "text": [
      "[[-7. -1. -1. ...  0.  0.  0.]\n",
      " [-1. -5.  0. ...  0.  0.  0.]\n",
      " [-1.  0. -3. ...  0.  0.  0.]\n",
      " ...\n",
      " [ 0.  0.  0. ... -3.  0. -1.]\n",
      " [ 0.  0.  0. ...  0. -5. -1.]\n",
      " [ 0.  0.  0. ... -1. -1. -7.]]\n"
     ]
    }
   ],
   "source": [
    "import numpy as np\n",
    "\n",
    "def reduce(function, iterable, initializer=None):\n",
    "    it = iter(iterable)\n",
    "    if initializer is None:\n",
    "        value = next(it)\n",
    "    else:\n",
    "        value = initializer\n",
    "    for element in it:\n",
    "        value = function(value, element)\n",
    "    return value\n",
    "\n",
    "def TransverseFieldIsing(N, h):\n",
    "    id = np.array([[1, 0], [0, 1]])\n",
    "    sigma_x = np.array([[0, 1], [1, 0]])\n",
    "    sigma_z = np.array([[1, 0], [0, -1]])\n",
    "    \n",
    "    # Vector of operators: [σᶻ, σᶻ, id, ...]\n",
    "    first_term_ops = np.tile(id, (N, 1, 1))\n",
    "    first_term_ops[0] = sigma_z\n",
    "    first_term_ops[1] = sigma_z\n",
    "    \n",
    "    # Vector of operators: [σˣ, id, ...]\n",
    "    second_term_ops = np.tile(id, (N, 1, 1))\n",
    "    second_term_ops[0] = sigma_x\n",
    "    \n",
    "    H = np.zeros((2**N, 2**N), dtype=float)\n",
    "    for i in range(N-1):\n",
    "        # Tensor multiply all operators\n",
    "        H -= reduce(np.kron, first_term_ops)\n",
    "        # Cyclic shift the operators\n",
    "        first_term_ops = np.roll(first_term_ops, 1, axis=0)\n",
    "    \n",
    "    for i in range(N):\n",
    "        H -= h * reduce(np.kron, second_term_ops)\n",
    "        second_term_ops = np.roll(second_term_ops, 1, axis=0)\n",
    "    \n",
    "    return H\n",
    "\n",
    "# Number of spins\n",
    "N = 8\n",
    "\n",
    "# Strength of transverse field\n",
    "h = 1.\n",
    "\n",
    "# Get the Hamiltonian matrix\n",
    "H = TransverseFieldIsing(N, h)\n",
    "print(H)\n"
   ]
  },
  {
   "cell_type": "code",
   "execution_count": null,
   "metadata": {},
   "outputs": [],
   "source": [
    "import numpy as np\n",
    "from numpy.linalg import eigh\n",
    "\n",
    "def diagonalize_hamiltonian(H):\n",
    "    # Diagonalize the Hamiltonian\n",
    "    eigenvalues, eigenvectors = eigh(H)\n",
    "    # Sort the eigenvalues and eigenvectors in ascending order\n",
    "    idx = np.argsort(eigenvalues)\n",
    "    eigenvalues = eigenvalues[idx]\n",
    "    eigenvectors = eigenvectors[:, idx]\n",
    "    return eigenvalues, eigenvectors\n",
    "\n",
    "# Number of spins\n",
    "N = 2\n",
    "\n",
    "# Strength of transverse field\n",
    "h = 0.\n",
    "\n",
    "# Get the Hamiltonian matrix\n",
    "H = TransverseFieldIsing(N, h)\n",
    "\n",
    "# Diagonalize the Hamiltonian\n",
    "eigenvalues, eigenvectors = diagonalize_hamiltonian(H)\n",
    "i_0 = np.argmin(eigenvalues)\n",
    "\n",
    "# Print the eigenvalues and eigenvectors\n",
    "print(f\"Ground state energy: {eigenvalues[i_0]}\")\n",
    "print(f\"Ground state: {eigenvectors[:, i_0]}\")"
   ]
  },
  {
   "cell_type": "code",
   "execution_count": null,
   "metadata": {},
   "outputs": [],
   "source": [
    "np.linalg.eigh"
   ]
  },
  {
   "cell_type": "code",
   "execution_count": null,
   "metadata": {},
   "outputs": [],
   "source": []
  }
 ],
 "metadata": {
  "kernelspec": {
   "display_name": "qvenv",
   "language": "python",
   "name": "python3"
  },
  "language_info": {
   "codemirror_mode": {
    "name": "ipython",
    "version": 3
   },
   "file_extension": ".py",
   "mimetype": "text/x-python",
   "name": "python",
   "nbconvert_exporter": "python",
   "pygments_lexer": "ipython3",
   "version": "3.10.6"
  }
 },
 "nbformat": 4,
 "nbformat_minor": 2
}
